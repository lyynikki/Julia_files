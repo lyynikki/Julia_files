{
 "cells": [
  {
   "cell_type": "code",
   "execution_count": 1,
   "metadata": {
    "collapsed": true
   },
   "outputs": [],
   "source": [
    "using Gurobi,JuMP"
   ]
  },
  {
   "cell_type": "code",
   "execution_count": 2,
   "metadata": {
    "collapsed": false,
    "scrolled": true
   },
   "outputs": [
    {
     "data": {
      "text/plain": [
       "5-element Array{Float64,1}:\n",
       "  20.874\n",
       "  95.424\n",
       " 188.505\n",
       " 137.598\n",
       " 579.147"
      ]
     },
     "execution_count": 2,
     "metadata": {},
     "output_type": "execute_result"
    }
   ],
   "source": [
    "fix_cost = [20000,20000,10000,30000,20000]\n",
    "capacity = [700,200,100,200,100]\n",
    "population = [98000,448000,885000,646000,2719000]\n",
    "\n",
    "distance = [0 957 1798 165 795;957 0 907 1037 678;1798 907 0 1907 1116;165 1037 1907 0 960;795 678 1116 960 0]\n",
    "transfer_cost = 0.15*distance\n",
    "transfer_2 = [287.1,539.4,49.5,238.5,136.05,155.55,101.7,286.05,167.4,144.0]\n",
    "\n",
    "transfer_cost = 0.15.*distance\n",
    "transfer_cost[:,1] = 0.3.*distance[:,1]\n",
    "transfer_cost[1,:] = 0.3.*distance[1,:]\n",
    "transfer_cost\n",
    "\n",
    "demand = population * 0.000213"
   ]
  },
  {
   "cell_type": "code",
   "execution_count": 20,
   "metadata": {
    "collapsed": false
   },
   "outputs": [],
   "source": [
    "model = Model(solver=GurobiSolver());\n",
    "n = 5;\n",
    "@variable(model, a[1:n],Bin)\n",
    "\n",
    "@variable(model,x[1:n] >=0)\n",
    "\n",
    "@variable(model,f[1:n] >= 0)\n",
    "\n",
    "@variable(model,y[1:n,1:n]>=0)\n",
    "\n",
    "@constraint(model,sum(a[i] for i in 1:5) == 4)\n",
    "\n",
    "for i in 1:n\n",
    "    @constraint(model,x[i] <= a[i]*capacity[i])\n",
    "    @constraint(model,f[i] <= demand[i])\n",
    "    @constraint(model,x[i] + sum(y[:,i]) == sum(y[i,:])+ f[i])\n",
    "end\n",
    "\n",
    "    @objective(model,Max,200*sum(x[i] for i in 1:n) - sum(fix_cost.*a) - sum(transfer_cost.*y))\n",
    "\n",
    "model;"
   ]
  },
  {
   "cell_type": "code",
   "execution_count": 21,
   "metadata": {
    "collapsed": false
   },
   "outputs": [
    {
     "name": "stdout",
     "output_type": "stream",
     "text": [
      "Warning for adding constraints: zero or small (< 1e-13) coefficients, ignored\n",
      "Optimize a model with 16 rows, 40 columns and 69 nonzeros\n",
      "Coefficient statistics:\n",
      "  Matrix range    [1e+00, 7e+02]\n",
      "  Objective range [5e+01, 3e+04]\n",
      "  Bounds range    [1e+00, 1e+00]\n",
      "  RHS range       [4e+00, 6e+02]\n",
      "Found heuristic solution: objective -70000\n",
      "Presolve removed 10 rows and 10 columns\n",
      "Presolve time: 0.00s\n",
      "Presolved: 6 rows, 30 columns, 51 nonzeros\n",
      "Variable types: 29 continuous, 1 integer (1 binary)\n",
      "\n",
      "Root relaxation: objective 7.332631e+03, 5 iterations, 0.00 seconds\n",
      "\n",
      "    Nodes    |    Current Node    |     Objective Bounds      |     Work\n",
      " Expl Unexpl |  Obj  Depth IntInf | Incumbent    BestBd   Gap | It/Node Time\n",
      "\n",
      "*    0     0               0    7332.6313000 7332.63130  0.00%     -    0s\n",
      "\n",
      "Explored 0 nodes (5 simplex iterations) in 0.00 seconds\n",
      "Thread count was 4 (of 4 available processors)\n",
      "\n",
      "Optimal solution found (tolerance 1.00e-04)\n",
      "Best objective 7.332631300000e+03, best bound 7.332631300000e+03, gap 0.0%\n"
     ]
    },
    {
     "data": {
      "text/plain": [
       "7332.631300000023"
      ]
     },
     "execution_count": 21,
     "metadata": {},
     "output_type": "execute_result"
    }
   ],
   "source": [
    "solve(model);\n",
    "\n",
    "est_x = getvalue(x);\n",
    "est_f = getvalue(f);\n",
    "est_y = getvalue(y);\n",
    "est_a = getvalue(a);\n",
    "\n",
    "est_x;\n",
    "\n",
    "est_y;\n",
    "\n",
    "est_a;\n",
    "\n",
    "est_f;\n",
    "\n",
    "getobjectivevalue(model)"
   ]
  },
  {
   "cell_type": "code",
   "execution_count": 22,
   "metadata": {
    "collapsed": false
   },
   "outputs": [
    {
     "data": {
      "text/plain": [
       "5×3 Array{Float64,2}:\n",
       " 633.043   20.874   1.0\n",
       " 200.0     95.424   1.0\n",
       " 100.0    100.0     1.0\n",
       "   0.0    137.598  -0.0\n",
       "   0.0    579.147   1.0"
      ]
     },
     "execution_count": 22,
     "metadata": {},
     "output_type": "execute_result"
    }
   ],
   "source": [
    "result = [est_x est_f est_a]"
   ]
  },
  {
   "cell_type": "code",
   "execution_count": 23,
   "metadata": {
    "collapsed": false
   },
   "outputs": [
    {
     "data": {
      "text/plain": [
       "5×5 Array{Float64,2}:\n",
       " 0.0  0.0  0.0  612.169    0.0  \n",
       " 0.0  0.0  0.0    0.0    104.576\n",
       " 0.0  0.0  0.0    0.0      0.0  \n",
       " 0.0  0.0  0.0    0.0    474.571\n",
       " 0.0  0.0  0.0    0.0      0.0  "
      ]
     },
     "execution_count": 23,
     "metadata": {},
     "output_type": "execute_result"
    }
   ],
   "source": [
    "est_y"
   ]
  },
  {
   "cell_type": "code",
   "execution_count": 52,
   "metadata": {
    "collapsed": false
   },
   "outputs": [],
   "source": [
    "capacity = [700,200,100,200,0]\n",
    "model = Model(solver=GurobiSolver());\n",
    "n = 5;\n",
    "@variable(model, a[1:n],Bin)\n",
    "\n",
    "@variable(model,x[1:n] >=0)\n",
    "\n",
    "@variable(model,f[1:n] >= 0)\n",
    "\n",
    "@variable(model,y[1:n,1:n]>=0)\n",
    "\n",
    "for i in 1:n\n",
    "    @constraint(model,x[i] <= a[i]*capacity[i])\n",
    "    @constraint(model,f[i] <= demand[i])\n",
    "    @constraint(model,x[i] + sum(y[:,i]) == sum(y[i,:])+ f[i])\n",
    "end\n",
    "\n",
    "@objective(model,Max,200*sum(x[i] for i in 1:n) - 100000 - sum(transfer_cost.*y))\n",
    "\n",
    "model;"
   ]
  },
  {
   "cell_type": "code",
   "execution_count": 53,
   "metadata": {
    "collapsed": false
   },
   "outputs": [
    {
     "name": "stdout",
     "output_type": "stream",
     "text": [
      "Warning for adding constraints: zero or small (< 1e-13) coefficients, ignored\n",
      "Optimize a model with 15 rows, 40 columns and 64 nonzeros\n",
      "Coefficient statistics:\n",
      "  Matrix range    [1e+00, 7e+02]\n",
      "  Objective range [5e+01, 5e+02]\n",
      "  Bounds range    [1e+00, 1e+00]\n",
      "  RHS range       [2e+01, 6e+02]\n",
      "Found heuristic solution: objective -0\n",
      "Presolve removed 10 rows and 11 columns\n",
      "Presolve time: 0.00s\n",
      "Presolved: 5 rows, 29 columns, 49 nonzeros\n",
      "Variable types: 29 continuous, 0 integer (0 binary)\n",
      "\n",
      "Root relaxation: objective 8.723263e+04, 4 iterations, 0.00 seconds\n",
      "\n",
      "    Nodes    |    Current Node    |     Objective Bounds      |     Work\n",
      " Expl Unexpl |  Obj  Depth IntInf | Incumbent    BestBd   Gap | It/Node Time\n",
      "\n",
      "*    0     0               0    87232.631300 87232.6313  0.00%     -    0s\n",
      "\n",
      "Explored 0 nodes (4 simplex iterations) in 0.00 seconds\n",
      "Thread count was 4 (of 4 available processors)\n",
      "\n",
      "Optimal solution found (tolerance 1.00e-04)\n",
      "Best objective 8.723263130000e+04, best bound 8.723263130000e+04, gap 0.0%\n"
     ]
    },
    {
     "data": {
      "text/plain": [
       "-12767.368699999963"
      ]
     },
     "execution_count": 53,
     "metadata": {},
     "output_type": "execute_result"
    }
   ],
   "source": [
    "solve(model);\n",
    "est_x = getvalue(x);\n",
    "est_f = getvalue(f);\n",
    "est_y = getvalue(y);\n",
    "est_a = getvalue(a);\n",
    "\n",
    "est_x;\n",
    "est_y;\n",
    "est_a;\n",
    "est_f;\n",
    "getobjectivevalue(model)"
   ]
  },
  {
   "cell_type": "code",
   "execution_count": 38,
   "metadata": {
    "collapsed": false
   },
   "outputs": [
    {
     "data": {
      "text/plain": [
       "5×3 Array{Float64,2}:\n",
       " 433.043   20.874  1.0\n",
       " 200.0     95.424  1.0\n",
       "   0.0      0.0    0.0\n",
       " 200.0    137.598  1.0\n",
       "   0.0    579.147  0.0"
      ]
     },
     "execution_count": 38,
     "metadata": {},
     "output_type": "execute_result"
    }
   ],
   "source": [
    "result = [est_x est_f est_a]"
   ]
  },
  {
   "cell_type": "code",
   "execution_count": 34,
   "metadata": {
    "collapsed": false
   },
   "outputs": [
    {
     "data": {
      "text/plain": [
       "837.6190000000003"
      ]
     },
     "execution_count": 34,
     "metadata": {},
     "output_type": "execute_result"
    }
   ],
   "source": [
    "sum(est_x)"
   ]
  },
  {
   "cell_type": "code",
   "execution_count": 27,
   "metadata": {
    "collapsed": false
   },
   "outputs": [
    {
     "data": {
      "text/plain": [
       "true"
      ]
     },
     "execution_count": 27,
     "metadata": {},
     "output_type": "execute_result"
    }
   ],
   "source": [
    "est_x[1] + sum(est_y[:,1]) == sum(est_y[1,:])+ est_f[1]"
   ]
  },
  {
   "cell_type": "code",
   "execution_count": 29,
   "metadata": {
    "collapsed": false
   },
   "outputs": [
    {
     "data": {
      "text/plain": [
       "412.169"
      ]
     },
     "execution_count": 29,
     "metadata": {},
     "output_type": "execute_result"
    }
   ],
   "source": [
    "sum(est_y[1,:])"
   ]
  },
  {
   "cell_type": "code",
   "execution_count": 39,
   "metadata": {
    "collapsed": false
   },
   "outputs": [
    {
     "data": {
      "text/plain": [
       "5×5 Array{Float64,2}:\n",
       " 0.0  0.0  0.0  412.169    0.0  \n",
       " 0.0  0.0  0.0    0.0    104.576\n",
       " 0.0  0.0  0.0    0.0      0.0  \n",
       " 0.0  0.0  0.0    0.0    474.571\n",
       " 0.0  0.0  0.0    0.0      0.0  "
      ]
     },
     "execution_count": 39,
     "metadata": {},
     "output_type": "execute_result"
    }
   ],
   "source": [
    "est_y"
   ]
  },
  {
   "cell_type": "code",
   "execution_count": 19,
   "metadata": {
    "collapsed": false
   },
   "outputs": [
    {
     "data": {
      "text/plain": [
       "5×5 Array{Float64,2}:\n",
       "   0.0  287.1   539.4    49.5   238.5\n",
       " 287.1    0.0   136.05  155.55  101.7\n",
       " 539.4  136.05    0.0   286.05  167.4\n",
       "  49.5  155.55  286.05    0.0   144.0\n",
       " 238.5  101.7   167.4   144.0     0.0"
      ]
     },
     "execution_count": 19,
     "metadata": {},
     "output_type": "execute_result"
    }
   ],
   "source": [
    "transfer_cost"
   ]
  },
  {
   "cell_type": "code",
   "execution_count": null,
   "metadata": {
    "collapsed": true
   },
   "outputs": [],
   "source": []
  }
 ],
 "metadata": {
  "anaconda-cloud": {},
  "kernelspec": {
   "display_name": "Julia 0.5.0",
   "language": "julia",
   "name": "julia-0.5"
  },
  "language_info": {
   "file_extension": ".jl",
   "mimetype": "application/julia",
   "name": "julia",
   "version": "0.5.0"
  }
 },
 "nbformat": 4,
 "nbformat_minor": 1
}
