{
 "cells": [
  {
   "cell_type": "markdown",
   "metadata": {},
   "source": [
    "### 2.1 Preliminary matters\n",
    "#### 2.1.1 Install Gurobi\n",
    "#### 2.1.2 Load Package JuMP and Gurobi"
   ]
  },
  {
   "cell_type": "code",
   "execution_count": 1,
   "metadata": {
    "collapsed": false
   },
   "outputs": [],
   "source": [
    "using JuMP\n",
    "using Gurobi"
   ]
  },
  {
   "cell_type": "markdown",
   "metadata": {},
   "source": [
    "#### 2.1.3 Set working directory to folder that contains data files"
   ]
  },
  {
   "cell_type": "code",
   "execution_count": 2,
   "metadata": {
    "collapsed": false
   },
   "outputs": [],
   "source": [
    "cd(\"../HW4_data\")"
   ]
  },
  {
   "cell_type": "code",
   "execution_count": 3,
   "metadata": {
    "collapsed": false
   },
   "outputs": [
    {
     "data": {
      "text/plain": [
       "\"/Users/lyynikki/Desktop/course/15.071C/homework/HW4_data\""
      ]
     },
     "execution_count": 3,
     "metadata": {},
     "output_type": "execute_result"
    }
   ],
   "source": [
    "pwd()"
   ]
  },
  {
   "cell_type": "markdown",
   "metadata": {},
   "source": [
    "#### 2.1.4 Read in train, validation, and test files"
   ]
  },
  {
   "cell_type": "code",
   "execution_count": 4,
   "metadata": {
    "collapsed": false
   },
   "outputs": [],
   "source": [
    "train = readcsv(\"Train.csv\");\n",
    "validation = readcsv(\"Validation.csv\");\n",
    "test = readcsv(\"Test.csv\");"
   ]
  },
  {
   "cell_type": "markdown",
   "metadata": {},
   "source": [
    "#### 2.1.5 Separate X and Y variables from each set"
   ]
  },
  {
   "cell_type": "code",
   "execution_count": 5,
   "metadata": {
    "collapsed": false
   },
   "outputs": [],
   "source": [
    "x_train = train[:,(1:11)];\n",
    "x_validation = validation[:,(1:11)];\n",
    "x_test = test[:,(1:11)];\n",
    "\n",
    "y_train = train[:,12];\n",
    "y_validation = validation[:,12];\n",
    "y_test = test[:,12];"
   ]
  },
  {
   "cell_type": "markdown",
   "metadata": {},
   "source": [
    "### 2.2 Data Cleaning\n",
    "#### 2.2.1 Normalize each column in the training data"
   ]
  },
  {
   "cell_type": "code",
   "execution_count": 6,
   "metadata": {
    "collapsed": false
   },
   "outputs": [],
   "source": [
    "#2.2.1.a Compute the mean of y train, and each column of x train\n",
    "x_train_mean = mean(x_train,1);\n",
    "y_train_mean = mean(y_train);\n",
    "#2.2.1.b Subtract these mean values from y train and each column\n",
    "x_train = x_train .- x_train_mean;\n",
    "y_train = y_train - y_train_mean;\n",
    "#2.2.1.c Compute the norm of each column of x train\n",
    "#2.2.1.d Divide each column of x train by its norm\n",
    "x_train_norm = ones(11);\n",
    "for i in 1:11\n",
    "    x_train_norm[i] = vecnorm(x_train[:,i],2)\n",
    "    x_train[:,i] = x_train[:,i]/x_train_norm[i]\n",
    "end;"
   ]
  },
  {
   "cell_type": "markdown",
   "metadata": {},
   "source": [
    "#### 2.2.2 Normalize the validation and test set"
   ]
  },
  {
   "cell_type": "code",
   "execution_count": 7,
   "metadata": {
    "collapsed": false
   },
   "outputs": [],
   "source": [
    "# normalize validation\n",
    "x_validation = x_validation .- x_train_mean;\n",
    "y_validation = y_validation - y_train_mean;\n",
    "for i in 1:11\n",
    "    x_validation[:,i] = x_validation[:,i]./x_train_norm[i]\n",
    "end;\n",
    "\n",
    "#normalize test\n",
    "x_test = x_test .- x_train_mean;\n",
    "y_test = y_test - y_train_mean;\n",
    "for i in 1:11\n",
    "    x_test[:,i] = x_test[:,i]./x_train_norm[i]\n",
    "end;"
   ]
  },
  {
   "cell_type": "markdown",
   "metadata": {},
   "source": [
    "### 2.3 Starting the model\n",
    "#### 2.3.1 Define the constant D to be the number of independent variables"
   ]
  },
  {
   "cell_type": "code",
   "execution_count": 8,
   "metadata": {
    "collapsed": false
   },
   "outputs": [],
   "source": [
    "D = size(x_train)[2];\n",
    "a = size(x_train)[1];"
   ]
  },
  {
   "cell_type": "markdown",
   "metadata": {},
   "source": [
    "#### 2.3.2 Create a model objecting using Model() and the solver you intend to use"
   ]
  },
  {
   "cell_type": "code",
   "execution_count": 9,
   "metadata": {
    "collapsed": false
   },
   "outputs": [],
   "source": [
    "using JuMP, Gurobi\n",
    "model = Model(solver=GurobiSolver());"
   ]
  },
  {
   "cell_type": "markdown",
   "metadata": {},
   "source": [
    "#### 2.3.3 Define your Beta variables using @variable, to have length D"
   ]
  },
  {
   "cell_type": "code",
   "execution_count": 10,
   "metadata": {
    "collapsed": false
   },
   "outputs": [
    {
     "data": {
      "text/latex": [
       "$$ beta_{i} \\quad\\forall i \\in \\{1,2,\\dots,10,11\\} $$"
      ],
      "text/plain": [
       "11-element Array{JuMP.Variable,1}:\n",
       " beta[1] \n",
       " beta[2] \n",
       " beta[3] \n",
       " beta[4] \n",
       " beta[5] \n",
       " beta[6] \n",
       " beta[7] \n",
       " beta[8] \n",
       " beta[9] \n",
       " beta[10]\n",
       " beta[11]"
      ]
     },
     "execution_count": 10,
     "metadata": {},
     "output_type": "execute_result"
    }
   ],
   "source": [
    "@variable(model, beta[1:D])"
   ]
  },
  {
   "cell_type": "markdown",
   "metadata": {},
   "source": [
    "#### 2.3.4 Define binary indicator variables z"
   ]
  },
  {
   "cell_type": "code",
   "execution_count": 11,
   "metadata": {
    "collapsed": false
   },
   "outputs": [
    {
     "data": {
      "text/latex": [
       "$$ z_{i} \\in \\{0,1\\} \\quad\\forall i \\in \\{1,2,\\dots,10,11\\} $$"
      ],
      "text/plain": [
       "11-element Array{JuMP.Variable,1}:\n",
       " z[1] \n",
       " z[2] \n",
       " z[3] \n",
       " z[4] \n",
       " z[5] \n",
       " z[6] \n",
       " z[7] \n",
       " z[8] \n",
       " z[9] \n",
       " z[10]\n",
       " z[11]"
      ]
     },
     "execution_count": 11,
     "metadata": {},
     "output_type": "execute_result"
    }
   ],
   "source": [
    "@variable(model, z[1:D],Bin)"
   ]
  },
  {
   "cell_type": "markdown",
   "metadata": {},
   "source": [
    "### 2.4 Adding constraints\n",
    "#### 2.4.1 Set constraints\n",
    "###### 2.4.1.1 Purpose of the z variable:\n",
    "Z variables are binay variables. If z(i) = 0, it forces the corresponding beta(i) to be 0, which means the corresponding X(i) variable will not appear in the regression equation. Therefore, z variables enable us to constraint the existence of its corresponding X variables. Therefore, it restrict how many X variables will appear in the model and which X variables will appear in the model.\n",
    "###### 2.4.1.2 Big M\n",
    "Big M represents a very large integer. We use M to set a range for beta, which is: -z[i]*M <= beta[i] <= z[i]*M for all i. z[i] is binary variable. When z(i) is zero, beta(i) have to be zero, and X(i) won't appear in the model. When z(i)=1, since M is very large, there is actually no extra constraint for beta(i). The big M should be so large that no matter what beta[i]'s real value is, it can fall into the range of minus M to M. \n",
    "###### 2.4.1.3 Fix a value for your “big M” and formulate the constraints\n",
    "I would choose M to be 100000"
   ]
  },
  {
   "cell_type": "code",
   "execution_count": 12,
   "metadata": {
    "collapsed": false
   },
   "outputs": [],
   "source": [
    "M = 100000;\n",
    "for i in 1:D\n",
    "    @constraint(model, -z[i]*M <= beta[i] )\n",
    "    @constraint(model, beta[i] <= z[i]*M)\n",
    "end"
   ]
  },
  {
   "cell_type": "markdown",
   "metadata": {},
   "source": [
    "#### 2.4.2 Write a constraint that enforces sparsity in your model. Set the maximumnumber of variables used to 5."
   ]
  },
  {
   "cell_type": "code",
   "execution_count": 13,
   "metadata": {
    "collapsed": false
   },
   "outputs": [
    {
     "data": {
      "text/latex": [
       "$$ z_{1} + z_{2} + z_{3} + z_{4} + z_{5} + z_{6} + z_{7} + z_{8} + z_{9} + z_{10} + z_{11} \\leq 5 $$"
      ],
      "text/plain": [
       "z[1] + z[2] + z[3] + z[4] + z[5] + z[6] + z[7] + z[8] + z[9] + z[10] + z[11] ≤ 5"
      ]
     },
     "execution_count": 13,
     "metadata": {},
     "output_type": "execute_result"
    }
   ],
   "source": [
    "@constraint(model,sum(z) <=5)"
   ]
  },
  {
   "cell_type": "markdown",
   "metadata": {},
   "source": [
    "#### 2.4.3 Write constraints to prevent multicollinearity in the model"
   ]
  },
  {
   "cell_type": "code",
   "execution_count": 14,
   "metadata": {
    "collapsed": false
   },
   "outputs": [
    {
     "data": {
      "text/latex": [
       "$$ z_{5} + z_{6} \\leq 1 $$"
      ],
      "text/plain": [
       "z[5] + z[6] ≤ 1"
      ]
     },
     "execution_count": 14,
     "metadata": {},
     "output_type": "execute_result"
    }
   ],
   "source": [
    "@constraint(model,z[1]+z[2] <=1)\n",
    "@constraint(model,z[5]+z[6] <=1)"
   ]
  },
  {
   "cell_type": "markdown",
   "metadata": {},
   "source": [
    "#### 2.4.4 Write a constraint to exclude the solution where the first five variables are all used."
   ]
  },
  {
   "cell_type": "code",
   "execution_count": 15,
   "metadata": {
    "collapsed": false
   },
   "outputs": [
    {
     "data": {
      "text/latex": [
       "$$ z_{1} + z_{2} + z_{3} + z_{4} + z_{5} \\leq 4 $$"
      ],
      "text/plain": [
       "z[1] + z[2] + z[3] + z[4] + z[5] ≤ 4"
      ]
     },
     "execution_count": 15,
     "metadata": {},
     "output_type": "execute_result"
    }
   ],
   "source": [
    "@constraint(model,z[1]+z[2]+z[3]+z[4]+z[5] <=4)"
   ]
  },
  {
   "cell_type": "markdown",
   "metadata": {},
   "source": [
    "### 2.5 Defining the objective\n",
    "#### 2.5.1 Write out in the comments an expression for the sum of squared error we want to minimize, using y train, x train, and the variable Beta.\n",
    "What we want to minimize is:\n",
    "\n",
    "minimize over beta: sum(y_train[i] - x_train[i,:]'*beta)^2    for i in 1:73\n",
    "#### 2.5.2 Formulate the expression in Julia"
   ]
  },
  {
   "cell_type": "code",
   "execution_count": 16,
   "metadata": {
    "collapsed": false
   },
   "outputs": [],
   "source": [
    "@variable(model, e[1:a])\n",
    "for j = 1:a\n",
    "    @constraint(model, y_train[j] - sum(x_train[j,i]*beta[i] for i = 1:D) == e[j])\n",
    "end  "
   ]
  },
  {
   "cell_type": "code",
   "execution_count": 17,
   "metadata": {
    "collapsed": false
   },
   "outputs": [
    {
     "data": {
      "text/plain": [
       ":Min"
      ]
     },
     "execution_count": 17,
     "metadata": {},
     "output_type": "execute_result"
    }
   ],
   "source": [
    "@objective(model, Min, sum(e[j]^2 for j = 1:a))"
   ]
  },
  {
   "cell_type": "markdown",
   "metadata": {},
   "source": [
    "### 2.6 Running the model\n",
    "#### 2.6.1 Solve the model"
   ]
  },
  {
   "cell_type": "code",
   "execution_count": 18,
   "metadata": {
    "collapsed": false
   },
   "outputs": [
    {
     "name": "stdout",
     "output_type": "stream",
     "text": [
      "Optimize a model with 99 rows, 95 columns and 940 nonzeros\n",
      "Model has 73 quadratic objective terms\n",
      "Coefficient statistics:\n",
      "  Matrix range    [4e-04, 1e+05]\n",
      "  Objective range [0e+00, 0e+00]\n",
      "  Bounds range    [1e+00, 1e+00]\n",
      "  RHS range       [2e-02, 5e+00]\n",
      "Found heuristic solution: objective 110.545\n",
      "Presolve removed 1 rows and 0 columns\n",
      "Presolve time: 0.01s\n",
      "Presolved: 98 rows, 95 columns, 935 nonzeros\n",
      "Presolved model has 73 quadratic objective terms\n",
      "Variable types: 84 continuous, 11 integer (11 binary)\n",
      "\n",
      "Root relaxation: objective 1.911635e+00, 128 iterations, 0.00 seconds\n",
      "\n",
      "    Nodes    |    Current Node    |     Objective Bounds      |     Work\n",
      " Expl Unexpl |  Obj  Depth IntInf | Incumbent    BestBd   Gap | It/Node Time\n",
      "\n",
      "     0     0    1.91163    0    6  110.54518    1.91163  98.3%     -    0s\n",
      "     0     0    1.91253    0    5  110.54518    1.91253  98.3%     -    0s\n",
      "H    0     0                       2.4296317    1.91253  21.3%     -    0s\n",
      "     0     2    1.91253    0    3    2.42963    1.91253  21.3%     -    0s\n",
      "\n",
      "Explored 8 nodes (167 simplex iterations) in 0.03 seconds\n",
      "Thread count was 4 (of 4 available processors)\n",
      "\n",
      "Optimal solution found (tolerance 1.00e-04)\n",
      "Best objective 2.429631668198e+00, best bound 2.429631668198e+00, gap 0.0%\n"
     ]
    }
   ],
   "source": [
    "solve(model);"
   ]
  },
  {
   "cell_type": "markdown",
   "metadata": {},
   "source": [
    "#### 2.6.2 Save the value of Beta"
   ]
  },
  {
   "cell_type": "code",
   "execution_count": 19,
   "metadata": {
    "collapsed": false
   },
   "outputs": [
    {
     "data": {
      "text/plain": [
       "11-element Array{Float64,1}:\n",
       " -2.38034 \n",
       "  0.0     \n",
       "  0.0     \n",
       " -3.77384 \n",
       "  1.97906 \n",
       "  0.0     \n",
       "  0.0     \n",
       "  0.0     \n",
       "  0.0     \n",
       " -4.96516 \n",
       "  0.900082"
      ]
     },
     "execution_count": 19,
     "metadata": {},
     "output_type": "execute_result"
    }
   ],
   "source": [
    "est_beta = getvalue(beta)"
   ]
  },
  {
   "cell_type": "markdown",
   "metadata": {},
   "source": [
    "#### 2.6.3 Create predictions for y test"
   ]
  },
  {
   "cell_type": "code",
   "execution_count": 20,
   "metadata": {
    "collapsed": false
   },
   "outputs": [],
   "source": [
    "y_test_pred = x_test * est_beta;"
   ]
  },
  {
   "cell_type": "markdown",
   "metadata": {},
   "source": [
    "#### 2.6.4 Calculate the sum of squared error of your model on the test set"
   ]
  },
  {
   "cell_type": "code",
   "execution_count": 21,
   "metadata": {
    "collapsed": false
   },
   "outputs": [
    {
     "data": {
      "text/plain": [
       "1.7694917963608077"
      ]
     },
     "execution_count": 21,
     "metadata": {},
     "output_type": "execute_result"
    }
   ],
   "source": [
    "sse = sum((y_test_pred .- y_test).^2)"
   ]
  },
  {
   "cell_type": "markdown",
   "metadata": {},
   "source": [
    "sum of squared error is 1.769\n",
    "#### 2.6.5 Compute the sum of squared error of the baseline model on the test set\n",
    "The baseline model here is the naive prediction for the mean in the training set"
   ]
  },
  {
   "cell_type": "code",
   "execution_count": 22,
   "metadata": {
    "collapsed": false
   },
   "outputs": [
    {
     "data": {
      "text/plain": [
       "5.840077280220001e-16"
      ]
     },
     "execution_count": 22,
     "metadata": {},
     "output_type": "execute_result"
    }
   ],
   "source": [
    "y_mean = mean(y_train)"
   ]
  },
  {
   "cell_type": "markdown",
   "metadata": {},
   "source": [
    "The naive prediction would be for all observations in the testing set, predict y = 5.840*e-16, which is close to 0."
   ]
  },
  {
   "cell_type": "code",
   "execution_count": 23,
   "metadata": {
    "collapsed": false
   },
   "outputs": [
    {
     "data": {
      "text/plain": [
       "35.64438829836743"
      ]
     },
     "execution_count": 23,
     "metadata": {},
     "output_type": "execute_result"
    }
   ],
   "source": [
    "sse_baseline = sum((y_test .- y_mean).^2)"
   ]
  },
  {
   "cell_type": "markdown",
   "metadata": {},
   "source": [
    "sum of squared error is 35.644\n",
    "#### 2.6.6 Compute the R2 of your model"
   ]
  },
  {
   "cell_type": "code",
   "execution_count": 24,
   "metadata": {
    "collapsed": false
   },
   "outputs": [
    {
     "data": {
      "text/plain": [
       "0.9780213699538429"
      ]
     },
     "execution_count": 24,
     "metadata": {},
     "output_type": "execute_result"
    }
   ],
   "source": [
    "# for training set:\n",
    "y_train_pred = x_train * est_beta;\n",
    "r2_train = 1 - (sum((y_train .- y_train_pred).^2))/(sum((y_train .- y_mean).^2))"
   ]
  },
  {
   "cell_type": "code",
   "execution_count": 25,
   "metadata": {
    "collapsed": false
   },
   "outputs": [
    {
     "data": {
      "text/plain": [
       "0.9635134427813272"
      ]
     },
     "execution_count": 25,
     "metadata": {},
     "output_type": "execute_result"
    }
   ],
   "source": [
    "# for training set:\n",
    "y_vali_pred = x_validation * est_beta;\n",
    "r2_vali = 1 - (sum((y_validation .- y_vali_pred).^2))/(sum((y_validation .- y_mean).^2))"
   ]
  },
  {
   "cell_type": "code",
   "execution_count": 26,
   "metadata": {
    "collapsed": false,
    "scrolled": true
   },
   "outputs": [
    {
     "data": {
      "text/plain": [
       "0.9503570721553987"
      ]
     },
     "execution_count": 26,
     "metadata": {},
     "output_type": "execute_result"
    }
   ],
   "source": [
    "# for training set:\n",
    "r2_test = 1 - (sum((y_test_pred .- y_test).^2))/(sum((y_test .- y_mean).^2))"
   ]
  },
  {
   "cell_type": "markdown",
   "metadata": {},
   "source": [
    "so, the R square for traing, validation and testing are :\n",
    "0.978, 0.964 and 0.950."
   ]
  },
  {
   "cell_type": "markdown",
   "metadata": {},
   "source": [
    "### 2.7 EXTRA CREDIT\n",
    "#### 2.7.3 Show how you might select the sparsity\n",
    "I would run a loop for sparcity level from 1 to 11"
   ]
  },
  {
   "cell_type": "code",
   "execution_count": 27,
   "metadata": {
    "collapsed": false
   },
   "outputs": [],
   "source": [
    "## I am going to construct an array, containing 11 models, each model corresponding to \n",
    "## a different level of sparsity\n",
    "c = Model(solver=GurobiSolver());\n",
    "model = [c,c,c,c,c,c,c,c,c,c,c];\n",
    "## for each model, there is a set of est_beta value, and I will store betas in est_beta matrix\n",
    "est_beta = zeros(11,11);\n",
    "## I want to record sse and R squre for validation set \n",
    "sse_vali = zeros(11);\n",
    "R2_vali = zeros(11);"
   ]
  },
  {
   "cell_type": "markdown",
   "metadata": {},
   "source": [
    "#### Run a loop over various sparsity levels"
   ]
  },
  {
   "cell_type": "code",
   "execution_count": 28,
   "metadata": {
    "collapsed": false
   },
   "outputs": [
    {
     "name": "stdout",
     "output_type": "stream",
     "text": [
      "Optimize a model with 99 rows, 95 columns and 940 nonzeros\n",
      "Model has 73 quadratic objective terms\n",
      "Coefficient statistics:\n",
      "  Matrix range    [4e-04, 1e+05]\n",
      "  Objective range [0e+00, 0e+00]\n",
      "  Bounds range    [1e+00, 1e+00]\n",
      "  RHS range       [2e-02, 4e+00]\n",
      "Found heuristic solution: objective 110.545\n",
      "Presolve removed 3 rows and 0 columns\n",
      "Presolve time: 0.00s\n",
      "Presolved: 96 rows, 95 columns, 931 nonzeros\n",
      "Presolved model has 73 quadratic objective terms\n",
      "Variable types: 84 continuous, 11 integer (11 binary)\n",
      "\n",
      "Root relaxation: objective 1.911635e+00, 128 iterations, 0.00 seconds\n",
      "\n",
      "    Nodes    |    Current Node    |     Objective Bounds      |     Work\n",
      " Expl Unexpl |  Obj  Depth IntInf | Incumbent    BestBd   Gap | It/Node Time\n",
      "\n",
      "     0     0    1.91163    0    6  110.54518    1.91163  98.3%     -    0s\n",
      "*    0     0               0      95.7195199   95.71952  0.00%     -    0s\n",
      "\n",
      "Explored 0 nodes (141 simplex iterations) in 0.01 seconds\n",
      "Thread count was 4 (of 4 available processors)\n",
      "\n",
      "Optimal solution found (tolerance 1.00e-04)\n",
      "Best objective 9.571951994214e+01, best bound 9.571951994214e+01, gap 0.0%\n"
     ]
    },
    {
     "name": "stderr",
     "output_type": "stream",
     "text": [
      "\u001b[1m\u001b[31mWARNING: A variable named beta is already attached to this model. If creating variables programmatically, consider using the anonymous variable syntax x = @variable(m, [1:N], ...).\u001b[0m\n",
      "\u001b[1m\u001b[31mWARNING: A variable named z is already attached to this model. If creating variables programmatically, consider using the anonymous variable syntax x = @variable(m, [1:N], ...).\u001b[0m\n",
      "\u001b[1m\u001b[31mWARNING: A constraint named sparsity is already attached to this model. If creating constraints programmatically, consider using the anonymous constraint syntax con = @constraint(m, ...).\u001b[0m\n",
      "\u001b[1m\u001b[31mWARNING: A variable named e is already attached to this model. If creating variables programmatically, consider using the anonymous variable syntax x = @variable(m, [1:N], ...).\u001b[0m\n"
     ]
    },
    {
     "name": "stdout",
     "output_type": "stream",
     "text": [
      "Optimize a model with 198 rows, 190 columns and 1880 nonzeros\n",
      "Model has 73 quadratic objective terms\n",
      "Coefficient statistics:\n",
      "  Matrix range    [4e-04, 1e+05]\n",
      "  Objective range [0e+00, 0e+00]\n",
      "  Bounds range    [1e+00, 1e+00]\n",
      "  RHS range       [2e-02, 4e+00]\n",
      "Found heuristic solution: objective 110.545\n",
      "Presolve removed 100 rows and 95 columns\n",
      "Presolve time: 0.00s\n",
      "Presolved: 98 rows, 95 columns, 935 nonzeros\n",
      "Presolved model has 73 quadratic objective terms\n",
      "\n",
      "Loaded MIP start with objective 5.23576\n",
      "\n",
      "Variable types: 84 continuous, 11 integer (11 binary)\n",
      "\n",
      "Root relaxation: objective 1.911635e+00, 128 iterations, 0.00 seconds\n",
      "\n",
      "    Nodes    |    Current Node    |     Objective Bounds      |     Work\n",
      " Expl Unexpl |  Obj  Depth IntInf | Incumbent    BestBd   Gap | It/Node Time\n",
      "\n",
      "     0     0    1.91163    0    6    5.23576    1.91163  63.5%     -    0s\n",
      "     0     0    1.91253    0    5    5.23576    1.91253  63.5%     -    0s\n",
      "     0     2    1.91253    0    5    5.23576    1.91253  63.5%     -    0s\n",
      "\n",
      "Explored 6 nodes (7968 simplex iterations) in 1.51 seconds\n",
      "Thread count was 4 (of 4 available processors)\n",
      "\n",
      "Optimal solution found (tolerance 1.00e-04)\n",
      "Best objective 5.235762463281e+00, best bound 5.235762463281e+00, gap 0.0%\n",
      "Optimize a model with 297 rows, 285 columns and 2820 nonzeros\n",
      "Model has 73 quadratic objective terms\n",
      "Coefficient statistics:\n",
      "  Matrix range    [4e-04, 1e+05]\n",
      "  Objective range [0e+00, 0e+00]\n",
      "  Bounds range    [1e+00, 1e+00]\n",
      "  RHS range       [2e-02, 4e+00]\n",
      "Found heuristic solution: objective 110.545\n",
      "Presolve removed 199 rows and 190 columns\n",
      "Presolve time: 0.00s\n",
      "Presolved: 98 rows, 95 columns, 935 nonzeros\n",
      "Presolved model has 73 quadratic objective terms\n",
      "\n",
      "Loaded MIP start with objective 2.84455\n",
      "\n",
      "Variable types: 84 continuous, 11 integer (11 binary)\n",
      "\n",
      "Root relaxation: objective 1.911635e+00, 128 iterations, 0.00 seconds\n",
      "\n",
      "    Nodes    |    Current Node    |     Objective Bounds      |     Work\n",
      " Expl Unexpl |  Obj  Depth IntInf | Incumbent    BestBd   Gap | It/Node Time\n",
      "\n",
      "     0     0    1.91163    0    6    2.84455    1.91163  32.8%     -    0s\n",
      "     0     0     cutoff    0         2.84455    2.84455  0.00%     -    0s\n",
      "\n",
      "Explored 0 nodes (142 simplex iterations) in 0.02 seconds\n",
      "Thread count was 4 (of 4 available processors)\n",
      "\n",
      "Optimal solution found (tolerance 1.00e-04)\n",
      "Best objective 2.844549620167e+00, best bound 2.844549620167e+00, gap 0.0%\n",
      "Optimize a model with 396 rows, 380 columns and 3760 nonzeros\n",
      "Model has 73 quadratic objective terms\n",
      "Coefficient statistics:\n",
      "  Matrix range    [4e-04, 1e+05]\n",
      "  Objective range [0e+00, 0e+00]\n",
      "  Bounds range    [1e+00, 1e+00]\n",
      "  RHS range       [2e-02, 4e+00]\n",
      "Found heuristic solution: objective 110.545\n",
      "Presolve removed 298 rows and 285 columns\n",
      "Presolve time: 0.00s\n",
      "Presolved: 98 rows, 95 columns, 935 nonzeros\n",
      "Presolved model has 73 quadratic objective terms\n",
      "\n",
      "Loaded MIP start with objective 2.60316\n",
      "\n",
      "Variable types: 84 continuous, 11 integer (11 binary)\n",
      "\n",
      "Root relaxation: objective 1.911635e+00, 128 iterations, 0.00 seconds\n",
      "\n",
      "    Nodes    |    Current Node    |     Objective Bounds      |     Work\n",
      " Expl Unexpl |  Obj  Depth IntInf | Incumbent    BestBd   Gap | It/Node Time\n",
      "\n",
      "     0     0    1.91163    0    6    2.60316    1.91163  26.6%     -    0s\n",
      "     0     0    1.91253    0    3    2.60316    1.91253  26.5%     -    0s\n",
      "     0     2    1.91253    0    3    2.60316    1.91253  26.5%     -    0s\n",
      "\n",
      "Explored 4 nodes (150 simplex iterations) in 0.04 seconds\n",
      "Thread count was 4 (of 4 available processors)\n",
      "\n",
      "Optimal solution found (tolerance 1.00e-04)\n",
      "Best objective 2.603156472587e+00, best bound 2.603156472587e+00, gap 0.0%\n",
      "Optimize a model with 495 rows, 475 columns and 4700 nonzeros\n",
      "Model has 73 quadratic objective terms\n",
      "Coefficient statistics:\n",
      "  Matrix range    [4e-04, 1e+05]\n",
      "  Objective range [0e+00, 0e+00]\n",
      "  Bounds range    [1e+00, 1e+00]\n",
      "  RHS range       [2e-02, 5e+00]\n",
      "Found heuristic solution: objective 110.545\n",
      "Presolve removed 397 rows and 380 columns\n",
      "Presolve time: 0.00s\n",
      "Presolved: 98 rows, 95 columns, 935 nonzeros\n",
      "Presolved model has 73 quadratic objective terms\n",
      "\n",
      "Loaded MIP start with objective 2.42963\n",
      "\n",
      "Variable types: 84 continuous, 11 integer (11 binary)\n",
      "\n",
      "Root relaxation: objective 1.911635e+00, 128 iterations, 0.00 seconds\n",
      "\n",
      "    Nodes    |    Current Node    |     Objective Bounds      |     Work\n",
      " Expl Unexpl |  Obj  Depth IntInf | Incumbent    BestBd   Gap | It/Node Time\n",
      "\n",
      "     0     0    1.91163    0    6    2.42963    1.91163  21.3%     -    0s\n",
      "     0     0    1.91253    0    3    2.42963    1.91253  21.3%     -    0s\n",
      "     0     2    1.91253    0    3    2.42963    1.91253  21.3%     -    0s\n",
      "\n",
      "Explored 8 nodes (166 simplex iterations) in 0.03 seconds\n",
      "Thread count was 4 (of 4 available processors)\n",
      "\n",
      "Optimal solution found (tolerance 1.00e-04)\n",
      "Best objective 2.429631668198e+00, best bound 2.429631668198e+00, gap 0.0%\n",
      "Optimize a model with 594 rows, 570 columns and 5640 nonzeros\n",
      "Model has 73 quadratic objective terms\n",
      "Coefficient statistics:\n",
      "  Matrix range    [4e-04, 1e+05]\n",
      "  Objective range [0e+00, 0e+00]\n",
      "  Bounds range    [1e+00, 1e+00]\n",
      "  RHS range       [2e-02, 6e+00]\n",
      "Found heuristic solution: objective 110.545\n",
      "Presolve removed 496 rows and 475 columns\n",
      "Presolve time: 0.00s\n",
      "Presolved: 98 rows, 95 columns, 935 nonzeros\n",
      "Presolved model has 73 quadratic objective terms\n",
      "\n",
      "Loaded MIP start with objective 2.09446\n",
      "\n",
      "Variable types: 84 continuous, 11 integer (11 binary)\n",
      "\n",
      "Root relaxation: objective 1.911635e+00, 128 iterations, 0.00 seconds\n",
      "\n",
      "    Nodes    |    Current Node    |     Objective Bounds      |     Work\n",
      " Expl Unexpl |  Obj  Depth IntInf | Incumbent    BestBd   Gap | It/Node Time\n",
      "\n",
      "     0     0    1.91163    0    6    2.09446    1.91163  8.73%     -    0s\n",
      "     0     0     cutoff    0         2.09446    2.09446  0.00%     -    0s\n",
      "\n",
      "Explored 0 nodes (146 simplex iterations) in 0.02 seconds\n",
      "Thread count was 4 (of 4 available processors)\n",
      "\n",
      "Optimal solution found (tolerance 1.00e-04)\n",
      "Best objective 2.094455436540e+00, best bound 2.094455436540e+00, gap 0.0%\n",
      "Optimize a model with 693 rows, 665 columns and 6580 nonzeros\n",
      "Model has 73 quadratic objective terms\n",
      "Coefficient statistics:\n",
      "  Matrix range    [4e-04, 1e+05]\n",
      "  Objective range [0e+00, 0e+00]\n",
      "  Bounds range    [1e+00, 1e+00]\n",
      "  RHS range       [2e-02, 7e+00]\n",
      "Found heuristic solution: objective 110.545\n",
      "Presolve removed 595 rows and 570 columns\n",
      "Presolve time: 0.00s\n",
      "Presolved: 98 rows, 95 columns, 935 nonzeros\n",
      "Presolved model has 73 quadratic objective terms\n",
      "\n",
      "Loaded MIP start with objective 2.00054\n",
      "\n",
      "Variable types: 84 continuous, 11 integer (11 binary)\n",
      "\n",
      "Root relaxation: objective 1.911635e+00, 128 iterations, 0.00 seconds\n",
      "\n",
      "    Nodes    |    Current Node    |     Objective Bounds      |     Work\n",
      " Expl Unexpl |  Obj  Depth IntInf | Incumbent    BestBd   Gap | It/Node Time\n",
      "\n",
      "     0     0    1.91163    0    6    2.00054    1.91163  4.44%     -    0s\n",
      "     0     0     cutoff    0         2.00054    2.00054  0.00%     -    0s\n",
      "\n",
      "Explored 0 nodes (142 simplex iterations) in 0.02 seconds\n",
      "Thread count was 4 (of 4 available processors)\n",
      "\n",
      "Optimal solution found (tolerance 1.00e-04)\n",
      "Warning: max constraint violation (1.0917e-02) exceeds tolerance\n",
      "         (model may be infeasible or unbounded - try turning presolve off)\n",
      "Best objective 2.000543146528e+00, best bound 2.000543146528e+00, gap 0.0%\n",
      "Optimize a model with 792 rows, 760 columns and 7520 nonzeros\n",
      "Model has 73 quadratic objective terms\n",
      "Coefficient statistics:\n",
      "  Matrix range    [4e-04, 1e+05]\n",
      "  Objective range [0e+00, 0e+00]\n",
      "  Bounds range    [1e+00, 1e+00]\n",
      "  RHS range       [2e-02, 8e+00]\n",
      "Found heuristic solution: objective 110.545\n",
      "Presolve removed 694 rows and 665 columns\n",
      "Presolve time: 0.00s\n",
      "Presolved: 98 rows, 95 columns, 935 nonzeros\n",
      "Presolved model has 73 quadratic objective terms\n",
      "\n",
      "MIP start did not produce a new incumbent solution\n",
      "MIP start violates constraint R598 by 0.28\n",
      "\n",
      "Variable types: 84 continuous, 11 integer (11 binary)\n",
      "\n",
      "Root relaxation: objective 1.911635e+00, 128 iterations, 0.00 seconds\n",
      "\n",
      "    Nodes    |    Current Node    |     Objective Bounds      |     Work\n",
      " Expl Unexpl |  Obj  Depth IntInf | Incumbent    BestBd   Gap | It/Node Time\n",
      "\n",
      "     0     0    1.91163    0    6  110.54518    1.91163  98.3%     -    0s\n",
      "     0     0    1.91253    0    5  110.54518    1.91253  98.3%     -    0s\n",
      "H    0     0                       2.0944554    1.91253  8.69%     -    0s\n",
      "*    0     0               0       2.0005431    2.00054  0.00%     -    0s\n",
      "\n",
      "Explored 1 nodes (141 simplex iterations) in 0.01 seconds\n",
      "Thread count was 4 (of 4 available processors)\n",
      "\n",
      "Optimal solution found (tolerance 1.00e-04)\n",
      "Warning: max constraint violation (1.0917e-02) exceeds tolerance\n",
      "         (model may be infeasible or unbounded - try turning presolve off)\n",
      "Best objective 2.000543146528e+00, best bound 2.000543146528e+00, gap 0.0%\n",
      "Optimize a model with 891 rows, 855 columns and 8460 nonzeros\n",
      "Model has 73 quadratic objective terms\n",
      "Coefficient statistics:\n",
      "  Matrix range    [4e-04, 1e+05]\n",
      "  Objective range [0e+00, 0e+00]\n",
      "  Bounds range    [1e+00, 1e+00]\n",
      "  RHS range       [2e-02, 9e+00]\n",
      "Found heuristic solution: objective 110.545\n",
      "Presolve removed 810 rows and 769 columns\n",
      "Presolve time: 0.00s\n",
      "Presolved: 81 rows, 86 columns, 892 nonzeros\n",
      "Presolved model has 73 quadratic objective terms\n",
      "\n",
      "MIP start did not produce a new incumbent solution\n",
      "MIP start violates constraint R697 by 0.28\n",
      "\n",
      "Variable types: 84 continuous, 2 integer (2 binary)\n",
      "\n",
      "Root relaxation: objective 1.911635e+00, 108 iterations, 0.00 seconds\n",
      "\n",
      "    Nodes    |    Current Node    |     Objective Bounds      |     Work\n",
      " Expl Unexpl |  Obj  Depth IntInf | Incumbent    BestBd   Gap | It/Node Time\n",
      "\n",
      "*    0     0               0       1.9116349    1.91163  0.00%     -    0s\n",
      "\n",
      "Explored 0 nodes (108 simplex iterations) in 0.01 seconds\n",
      "Thread count was 4 (of 4 available processors)\n",
      "\n",
      "Optimal solution found (tolerance 1.00e-04)\n",
      "Warning: max constraint violation (3.4754e-02) exceeds tolerance\n",
      "         (model may be infeasible or unbounded - try turning presolve off)\n",
      "Best objective 1.911634933915e+00, best bound 1.911634933915e+00, gap 0.0%\n",
      "Optimize a model with 990 rows, 950 columns and 9400 nonzeros\n",
      "Model has 73 quadratic objective terms\n",
      "Coefficient statistics:\n",
      "  Matrix range    [4e-04, 1e+05]\n",
      "  Objective range [0e+00, 0e+00]\n",
      "  Bounds range    [1e+00, 1e+00]\n",
      "  RHS range       [2e-02, 1e+01]\n",
      "Found heuristic solution: objective 110.545\n",
      "Presolve removed 909 rows and 864 columns\n",
      "Presolve time: 0.00s\n",
      "Presolved: 81 rows, 86 columns, 892 nonzeros\n",
      "Presolved model has 73 quadratic objective terms\n",
      "\n",
      "MIP start did not produce a new incumbent solution\n",
      "MIP start violates constraint R794 by 0.50\n",
      "\n",
      "Variable types: 84 continuous, 2 integer (2 binary)\n",
      "\n",
      "Root relaxation: objective 1.911635e+00, 108 iterations, 0.00 seconds\n",
      "\n",
      "    Nodes    |    Current Node    |     Objective Bounds      |     Work\n",
      " Expl Unexpl |  Obj  Depth IntInf | Incumbent    BestBd   Gap | It/Node Time\n",
      "\n",
      "*    0     0               0       1.9116349    1.91163  0.00%     -    0s\n",
      "\n",
      "Explored 0 nodes (108 simplex iterations) in 0.01 seconds\n",
      "Thread count was 4 (of 4 available processors)\n",
      "\n",
      "Optimal solution found (tolerance 1.00e-04)\n",
      "Warning: max constraint violation (3.4754e-02) exceeds tolerance\n",
      "         (model may be infeasible or unbounded - try turning presolve off)\n",
      "Best objective 1.911634933915e+00, best bound 1.911634933915e+00, gap 0.0%\n",
      "Optimize a model with 1089 rows, 1045 columns and 10340 nonzeros\n",
      "Model has 73 quadratic objective terms\n",
      "Coefficient statistics:\n",
      "  Matrix range    [4e-04, 1e+05]\n",
      "  Objective range [0e+00, 0e+00]\n",
      "  Bounds range    [1e+00, 1e+00]\n",
      "  RHS range       [2e-02, 1e+01]\n",
      "Found heuristic solution: objective 110.545\n",
      "Presolve removed 1008 rows and 959 columns\n",
      "Presolve time: 0.00s\n",
      "Presolved: 81 rows, 86 columns, 892 nonzeros\n",
      "Presolved model has 73 quadratic objective terms\n",
      "\n",
      "MIP start did not produce a new incumbent solution\n",
      "MIP start violates constraint R893 by 0.50\n",
      "\n",
      "Variable types: 84 continuous, 2 integer (2 binary)\n",
      "\n",
      "Root relaxation: objective 1.911635e+00, 111 iterations, 0.00 seconds\n",
      "\n",
      "    Nodes    |    Current Node    |     Objective Bounds      |     Work\n",
      " Expl Unexpl |  Obj  Depth IntInf | Incumbent    BestBd   Gap | It/Node Time\n",
      "\n",
      "     0     0    1.91163    0    1  110.54518    1.91163  98.3%     -    0s\n",
      "*    0     0               0       1.9125311    1.91253  0.00%     -    0s\n",
      "\n",
      "Explored 0 nodes (115 simplex iterations) in 0.01 seconds\n",
      "Thread count was 4 (of 4 available processors)\n",
      "\n",
      "Optimal solution found (tolerance 1.00e-04)\n",
      "Best objective 1.912531113109e+00, best bound 1.912531113109e+00, gap 0.0%\n"
     ]
    }
   ],
   "source": [
    "## k is the sparsity level, which is how many variables the model includes\n",
    "for k = 1:11\n",
    "    mm = model[k]\n",
    "    @variable(mm, beta[1:D]);\n",
    "    @variable(mm, z[1:D],Bin);\n",
    "    for i in 1:D\n",
    "        @constraint(mm, -z[i]*M <= beta[i])\n",
    "        @constraint(mm, beta[i] <= z[i]*M)\n",
    "    end;\n",
    "    @constraint(mm,sparsity,sum(z) <= k);\n",
    "    @constraint(mm,z[1]+z[2] <=1);\n",
    "    @constraint(mm,z[5]+z[6] <=1);\n",
    "    @constraint(mm,z[1]+z[2]+z[3]+z[4]+z[5] <=4);\n",
    "    @variable(mm, e[1:a]);\n",
    "    for j = 1:a\n",
    "        @constraint(mm, y_train[j] - sum(x_train[j,i]*beta[i] for i = 1:D) == e[j])\n",
    "    end ;\n",
    "    @objective(mm, Min, sum(e[j]^2 for j = 1:a));\n",
    "    solve(mm);\n",
    "    est_beta[k,:] = getvalue(beta);\n",
    "    sse_vali[k] =  sum((y_validation .- x_validation * est_beta[k,:]).^2);\n",
    "    R2_vali[k] = 1 - (sum((y_validation .- x_validation * est_beta[k,:]).^2))/(sum((y_validation .- y_mean).^2))\n",
    "end   "
   ]
  },
  {
   "cell_type": "markdown",
   "metadata": {},
   "source": [
    "#### Select the sparsity that minimizes out-of-sample error on the validation set\n",
    "Minimize validation sum of squred error or maximize validation R squre:"
   ]
  },
  {
   "cell_type": "code",
   "execution_count": 29,
   "metadata": {
    "collapsed": false,
    "scrolled": true
   },
   "outputs": [
    {
     "data": {
      "text/plain": [
       "2-element Array{Array{Float64,1},1}:\n",
       " [33.6586,2.85705,1.61944,1.54522,1.59348,2.30908,2.4343,2.4343,2.18744,2.18744,2.16118]             \n",
       " [0.229309,0.934581,0.962919,0.964619,0.963513,0.947128,0.944261,0.944261,0.949914,0.949914,0.950515]"
      ]
     },
     "execution_count": 29,
     "metadata": {},
     "output_type": "execute_result"
    }
   ],
   "source": [
    "[sse_vali,R2_vali]"
   ]
  },
  {
   "cell_type": "markdown",
   "metadata": {},
   "source": [
    "I use validation R square and validation sum of squred error as metric, the best sparsity level is 4.\n",
    "\n",
    "When choosing sparsity level = 4"
   ]
  },
  {
   "cell_type": "code",
   "execution_count": 30,
   "metadata": {
    "collapsed": false,
    "scrolled": true
   },
   "outputs": [
    {
     "data": {
      "text/plain": [
       "(1.7489137873655933,0.9509343862847074)"
      ]
     },
     "execution_count": 30,
     "metadata": {},
     "output_type": "execute_result"
    }
   ],
   "source": [
    "sse_test_4 = sum((y_test .- x_test * est_beta[4,:]).^2)\n",
    "R2_test_4 = 1 - (sum((y_test .- x_test * est_beta[4,:]).^2))/(sum((y_test .- y_mean).^2))\n",
    "sse_test_4,R2_test_4"
   ]
  },
  {
   "cell_type": "markdown",
   "metadata": {},
   "source": [
    "The test set sum squred error = 1.749, and test R square = 0.951"
   ]
  }
 ],
 "metadata": {
  "anaconda-cloud": {},
  "kernelspec": {
   "display_name": "Julia 0.5.0",
   "language": "julia",
   "name": "julia-0.5"
  },
  "language_info": {
   "file_extension": ".jl",
   "mimetype": "application/julia",
   "name": "julia",
   "version": "0.5.0"
  }
 },
 "nbformat": 4,
 "nbformat_minor": 1
}
