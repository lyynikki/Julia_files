{
 "cells": [
  {
   "cell_type": "code",
   "execution_count": 7,
   "metadata": {
    "collapsed": false
   },
   "outputs": [
    {
     "data": {
      "text/plain": [
       "10×5 Array{Float64,2}:\n",
       " 1380.0  1668.0   1464.0  1620.0    0.0\n",
       "  278.4   289.2    252.0   264.0  270.0\n",
       "  934.0   799.0    883.0   899.6    0.0\n",
       "  271.0   278.0    257.0   292.0  299.0\n",
       "  213.0   221.25   229.5   218.0    0.0\n",
       "  684.0   596.0    460.0   560.0    0.0\n",
       "  679.0   727.0    628.0   631.0    0.0\n",
       "  275.0   257.0    260.0   300.0  310.0\n",
       "  420.0   404.0    388.0   388.0  412.0\n",
       "  203.0   215.0    212.0     0.0    0.0"
      ]
     },
     "execution_count": 7,
     "metadata": {},
     "output_type": "execute_result"
    }
   ],
   "source": [
    "using JuMP\n",
    "using Gurobi\n",
    "using DataFrames\n",
    "\n",
    "m = Model()\n",
    "\n",
    "@variable(m, Sup[i = 1:10, j = 1:5],Bin)\n",
    "\n",
    "df = readtable(\"/Users/lyynikki/Desktop/1.csv\")\n",
    "cost_raw = df[:Cost_NT_]\n",
    "ul = df[:UL_Certified]\n",
    "extra_cost = df[:Extra_Pre_Assembly_Cost_NT_]\n",
    "defect_raw = df[:Defect_Rate]\n",
    "total_cost_unshaped = [(cost_raw[i]+extra_cost[i])for i=1:43]\n",
    "\n",
    "UL = zeros(10,5)\n",
    "UL[1,1:4] = ul[1:4]\n",
    "UL[2,1:5] = ul[5:9]\n",
    "UL[3,1:4] = ul[10:13]\n",
    "UL[4,1:5] = ul[14:18]\n",
    "UL[5,1:4] = ul[19:22]\n",
    "UL[6,1:4] = ul[23:26]\n",
    "UL[7,1:4] = ul[27:30]\n",
    "UL[8,1:5] = ul[31:35]\n",
    "UL[9,1:5] = ul[36:40]\n",
    "UL[10,1:3] = ul[41:43]\n",
    "UL\n",
    "\n",
    "Cost = zeros(10,5)\n",
    "Cost[1,1:4] = total_cost_unshaped[1:4]\n",
    "Cost[2,1:5] = total_cost_unshaped[5:9]\n",
    "Cost[3,1:4] = total_cost_unshaped[10:13]\n",
    "Cost[4,1:5] = total_cost_unshaped[14:18]\n",
    "Cost[5,1:4] = total_cost_unshaped[19:22]\n",
    "Cost[6,1:4] = total_cost_unshaped[23:26]\n",
    "Cost[7,1:4] = total_cost_unshaped[27:30]\n",
    "Cost[8,1:5] = total_cost_unshaped[31:35]\n",
    "Cost[9,1:5] = total_cost_unshaped[36:40]\n",
    "Cost[10,1:3] = total_cost_unshaped[41:43]\n",
    "Cost\n",
    "\n",
    "Defect = zeros(10,5)\n",
    "Defect[1,1:4] = defect_raw[1:4]\n",
    "Defect[2,1:5] = defect_raw[5:9]\n",
    "Defect[3,1:4] = defect_raw[10:13]\n",
    "Defect[4,1:5] = defect_raw[14:18]\n",
    "Defect[5,1:4] = defect_raw[19:22]\n",
    "Defect[6,1:4] = defect_raw[23:26]\n",
    "Defect[7,1:4] = defect_raw[27:30]\n",
    "Defect[8,1:5] = defect_raw[31:35]\n",
    "Defect[9,1:5] = defect_raw[36:40]\n",
    "Defect[10,1:3] = defect_raw[41:43]\n",
    "Defect\n",
    "\n",
    "Cost"
   ]
  },
  {
   "cell_type": "code",
   "execution_count": 11,
   "metadata": {
    "collapsed": false
   },
   "outputs": [
    {
     "name": "stdout",
     "output_type": "stream",
     "text": [
      "Optimize a model with 30 rows, 50 columns and 525 nonzeros\n",
      "Coefficient statistics:\n",
      "  Matrix range    [1e+00, 2e+03]\n",
      "  Objective range [3e+00, 8e+01]\n",
      "  Bounds range    [1e+00, 1e+00]\n",
      "  RHS range       [1e+00, 2e+05]\n",
      "Found heuristic solution: objective 227.331\n",
      "Presolve removed 30 rows and 50 columns\n",
      "Presolve time: 0.00s\n",
      "Presolve: All rows and columns removed\n",
      "\n",
      "Explored 0 nodes (0 simplex iterations) in 0.00 seconds\n",
      "Thread count was 1 (of 4 available processors)\n",
      "\n",
      "Optimal solution found (tolerance 1.00e-04)\n",
      "Best objective 9.148060000000e+01, best bound 9.148060000000e+01, gap 0.0%\n",
      "Objective value is 91.48060000000001\n"
     ]
    },
    {
     "data": {
      "text/plain": [
       "10×5 Array{Float64,2}:\n",
       " 0.0  0.0  1.0  0.0  0.0\n",
       " 0.0  1.0  0.0  0.0  0.0\n",
       " 0.0  0.0  1.0  0.0  0.0\n",
       " 0.0  0.0  0.0  0.0  1.0\n",
       " 1.0  0.0  0.0  0.0  0.0\n",
       " 0.0  1.0  0.0  0.0  0.0\n",
       " 0.0  1.0  0.0  0.0  0.0\n",
       " 0.0  0.0  0.0  0.0  1.0\n",
       " 1.0  0.0  0.0  0.0  0.0\n",
       " 0.0  1.0  0.0  0.0  0.0"
      ]
     },
     "execution_count": 11,
     "metadata": {},
     "output_type": "execute_result"
    }
   ],
   "source": [
    "@objective(m, Min, sum{Defect[i,j]*Sup[i,j]*Cost[i,j], i=1:10, j=1:5})\n",
    "for i=1:10\n",
    "    @constraint(m, sum{Sup[i, j], j = 1:5} == 1)\n",
    "end\n",
    "\n",
    "@constraint(m, Sup[1,3]+Sup[2,3]<=1)\n",
    "@constraint(m, sum{UL[i,j]*Sup[i,j],i = 1:10, j = 1:5} >= 7)\n",
    "@constraint(m,Sup[2,1]== Sup[4,2])\n",
    "@constraint(m,Sup[1,5] == Sup[3,5])\n",
    "@constraint(m,Sup[5,5] == Sup[6,5])\n",
    "@constraint(m,Sup[7,5] == Sup[10,5])\n",
    "@constraint(m,Sup[10,4] == 0)\n",
    "@constraint(m,Sup[1,5] == 0)\n",
    "@constraint(m,Sup[5,5] == 0)\n",
    "@constraint(m,Sup[7,5] == 0)\n",
    "\n",
    "for i=1:10\n",
    "    @constraint(m,sum{(1+Defect[i,j])*Sup[i,j]*Cost[i,j],i=1:10, j=1:5}<= 5400*33.43)\n",
    "end\n",
    "\n",
    "status = solve(m)\n",
    "println(\"Objective value is \", getobjectivevalue(m) )\n",
    "getvalue(Sup)"
   ]
  },
  {
   "cell_type": "code",
   "execution_count": 14,
   "metadata": {
    "collapsed": false
   },
   "outputs": [
    {
     "data": {
      "text/plain": [
       "10×5 Array{Float64,2}:\n",
       "   0.0      0.0    1485.96   0.0    0.0  \n",
       "   0.0    292.96      0.0    0.0    0.0  \n",
       "   0.0      0.0     892.713  0.0    0.0  \n",
       "   0.0      0.0       0.0    0.0  303.784\n",
       " 227.484    0.0       0.0    0.0    0.0  \n",
       "   0.0    604.344     0.0    0.0    0.0  \n",
       "   0.0    736.451     0.0    0.0    0.0  \n",
       "   0.0      0.0       0.0    0.0  314.34 \n",
       " 427.98     0.0       0.0    0.0    0.0  \n",
       "   0.0    221.665     0.0    0.0    0.0  "
      ]
     },
     "execution_count": 14,
     "metadata": {},
     "output_type": "execute_result"
    }
   ],
   "source": [
    "total_cost_unshaped = [(cost_raw[i]+extra_cost[i]) *(1+defect_raw[i]) for i=1:43]\n",
    "Cost = zeros(10,5)\n",
    "Cost[1,1:4] = total_cost_unshaped[1:4]\n",
    "Cost[2,1:5] = total_cost_unshaped[5:9]\n",
    "Cost[3,1:4] = total_cost_unshaped[10:13]\n",
    "Cost[4,1:5] = total_cost_unshaped[14:18]\n",
    "Cost[5,1:4] = total_cost_unshaped[19:22]\n",
    "Cost[6,1:4] = total_cost_unshaped[23:26]\n",
    "Cost[7,1:4] = total_cost_unshaped[27:30]\n",
    "Cost[8,1:5] = total_cost_unshaped[31:35]\n",
    "Cost[9,1:5] = total_cost_unshaped[36:40]\n",
    "Cost[10,1:3] = total_cost_unshaped[41:43]\n",
    "Cost\n",
    "\n",
    "x = getvalue(Sup)\n",
    "Cost.*x\n",
    "sum(Cost.*x)"
   ]
  },
  {
   "cell_type": "code",
   "execution_count": 16,
   "metadata": {
    "collapsed": false
   },
   "outputs": [
    {
     "data": {
      "text/plain": [
       "10×5 Array{Float64,2}:\n",
       " 0.0    0.0    0.985  0.0  0.0  \n",
       " 0.0    0.987  0.0    0.0  0.0  \n",
       " 0.0    0.0    0.989  0.0  0.0  \n",
       " 0.0    0.0    0.0    0.0  0.984\n",
       " 0.932  0.0    0.0    0.0  0.0  \n",
       " 0.0    0.986  0.0    0.0  0.0  \n",
       " 0.0    0.987  0.0    0.0  0.0  \n",
       " 0.0    0.0    0.0    0.0  0.986\n",
       " 0.981  0.0    0.0    0.0  0.0  \n",
       " 0.0    0.969  0.0    0.0  0.0  "
      ]
     },
     "execution_count": 16,
     "metadata": {},
     "output_type": "execute_result"
    }
   ],
   "source": [
    "y = ones(10,5)\n",
    "x.*(y .- Defect)"
   ]
  },
  {
   "cell_type": "code",
   "execution_count": 23,
   "metadata": {
    "collapsed": false
   },
   "outputs": [
    {
     "data": {
      "text/plain": [
       "10×5 Array{Float64,2}:\n",
       " 0.0        0.0        0.0122482  0.0  0.0      \n",
       " 0.0        0.0105936  0.0        0.0  0.0      \n",
       " 0.0        0.0        0.0089457  0.0  0.0      \n",
       " 0.0        0.0        0.0        0.0  0.013078 \n",
       " 0.0586828  0.0        0.0        0.0  0.0      \n",
       " 0.0        0.0114201  0.0        0.0  0.0      \n",
       " 0.0        0.0105936  0.0        0.0  0.0      \n",
       " 0.0        0.0        0.0        0.0  0.0114201\n",
       " 0.0155777  0.0        0.0        0.0  0.0      \n",
       " 0.0        0.025731   0.0        0.0  0.0      "
      ]
     },
     "execution_count": 23,
     "metadata": {},
     "output_type": "execute_result"
    }
   ],
   "source": [
    "y = ones(10,5)\n",
    "x.*(y .- Defect)\n",
    "\n"
   ]
  },
  {
   "cell_type": "code",
   "execution_count": 25,
   "metadata": {
    "collapsed": false
   },
   "outputs": [
    {
     "data": {
      "text/plain": [
       "0.9825908393864567"
      ]
     },
     "execution_count": 25,
     "metadata": {},
     "output_type": "execute_result"
    }
   ],
   "source": [
    "a = (Defect ./(y .- Defect)).*x*0.8043\n",
    "sum(a) + 0.8043"
   ]
  },
  {
   "cell_type": "code",
   "execution_count": null,
   "metadata": {
    "collapsed": true
   },
   "outputs": [],
   "source": []
  }
 ],
 "metadata": {
  "anaconda-cloud": {},
  "kernelspec": {
   "display_name": "Julia 0.5.0",
   "language": "julia",
   "name": "julia-0.5"
  },
  "language_info": {
   "file_extension": ".jl",
   "mimetype": "application/julia",
   "name": "julia",
   "version": "0.5.0"
  }
 },
 "nbformat": 4,
 "nbformat_minor": 1
}
