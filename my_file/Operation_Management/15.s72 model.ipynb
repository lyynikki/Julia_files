{
 "cells": [
  {
   "cell_type": "code",
   "execution_count": 4,
   "metadata": {
    "collapsed": false
   },
   "outputs": [
    {
     "data": {
      "text/plain": [
       "10×5 Array{Float64,2}:\n",
       " 0.037  0.017  0.015  0.018  0.0  \n",
       " 0.043  0.013  0.06   0.026  0.024\n",
       " 0.034  0.1    0.011  0.091  0.0  \n",
       " 0.031  0.012  0.021  0.02   0.016\n",
       " 0.068  0.085  0.075  0.067  0.0  \n",
       " 0.014  0.014  0.061  0.02   0.0  \n",
       " 0.016  0.013  0.03   0.057  0.0  \n",
       " 0.035  0.058  0.063  0.046  0.014\n",
       " 0.019  0.029  0.059  0.091  0.035\n",
       " 0.077  0.031  0.038  0.0    0.0  "
      ]
     },
     "execution_count": 4,
     "metadata": {},
     "output_type": "execute_result"
    }
   ],
   "source": [
    "#model 1\n",
    "\n",
    "using JuMP\n",
    "using Gurobi\n",
    "using DataFrames\n",
    "\n",
    "m = Model()\n",
    "\n",
    "@variable(m, Sup[i = 1:10, j = 1:5],Bin)\n",
    "\n",
    "df = readtable(\"/Users/lyynikki/Desktop/1.csv\")\n",
    "cost_raw = df[:Cost_NT_]\n",
    "ul = df[:UL_Certified]\n",
    "extra_cost = df[:Extra_Pre_Assembly_Cost_NT_]\n",
    "defect_raw = df[:Defect_Rate]\n",
    "total_cost_unshaped = [(cost_raw[i]+extra_cost[i]) *(1+defect_raw[i]) for i=1:43]\n",
    "\n",
    "UL = zeros(10,5)\n",
    "UL[1,1:4] = ul[1:4]\n",
    "UL[2,1:5] = ul[5:9]\n",
    "UL[3,1:4] = ul[10:13]\n",
    "UL[4,1:5] = ul[14:18]\n",
    "UL[5,1:4] = ul[19:22]\n",
    "UL[6,1:4] = ul[23:26]\n",
    "UL[7,1:4] = ul[27:30]\n",
    "UL[8,1:5] = ul[31:35]\n",
    "UL[9,1:5] = ul[36:40]\n",
    "UL[10,1:3] = ul[41:43]\n",
    "UL\n",
    "\n",
    "Cost = zeros(10,5)\n",
    "Cost[1,1:4] = total_cost_unshaped[1:4]\n",
    "Cost[2,1:5] = total_cost_unshaped[5:9]\n",
    "Cost[3,1:4] = total_cost_unshaped[10:13]\n",
    "Cost[4,1:5] = total_cost_unshaped[14:18]\n",
    "Cost[5,1:4] = total_cost_unshaped[19:22]\n",
    "Cost[6,1:4] = total_cost_unshaped[23:26]\n",
    "Cost[7,1:4] = total_cost_unshaped[27:30]\n",
    "Cost[8,1:5] = total_cost_unshaped[31:35]\n",
    "Cost[9,1:5] = total_cost_unshaped[36:40]\n",
    "Cost[10,1:3] = total_cost_unshaped[41:43]\n",
    "Cost\n",
    "\n",
    "Defect = zeros(10,5)\n",
    "Defect[1,1:4] = defect_raw[1:4]\n",
    "Defect[2,1:5] = defect_raw[5:9]\n",
    "Defect[3,1:4] = defect_raw[10:13]\n",
    "Defect[4,1:5] = defect_raw[14:18]\n",
    "Defect[5,1:4] = defect_raw[19:22]\n",
    "Defect[6,1:4] = defect_raw[23:26]\n",
    "Defect[7,1:4] = defect_raw[27:30]\n",
    "Defect[8,1:5] = defect_raw[31:35]\n",
    "Defect[9,1:5] = defect_raw[36:40]\n",
    "Defect[10,1:3] = defect_raw[41:43]\n",
    "Defect\n",
    "\n",
    "@objective(m, Min, sum{Cost[i,j]*Sup[i,j], i=1:10, j=1:5})\n",
    "for i=1:10\n",
    "    @constraint(m, sum{Sup[i, j], j = 1:5} == 1)\n",
    "end\n",
    "\n",
    "@constraint(m, Sup[1,3]+Sup[2,3]<=1)\n",
    "@constraint(m, sum{UL[i,j]*Sup[i,j],i = 1:10, j = 1:5} >= 7)\n",
    "@constraint(m,Sup[2,1]== Sup[4,2])\n",
    "@constraint(m,Sup[1,5] == Sup[3,5])\n",
    "@constraint(m,Sup[5,5] == Sup[6,5])\n",
    "@constraint(m,Sup[7,5] == Sup[10,5])\n",
    "@constraint(m,Sup[10,4] == 0)\n",
    "@constraint(m,Sup[1,5] == 0)\n",
    "@constraint(m,Sup[5,5] == 0)\n",
    "@constraint(m,Sup[7,5] == 0)\n",
    "\n",
    "for i=1:10\n",
    "@constraint(m,sum{ExtraCost[i,j]*Sup[i,j], j=1:5}+sum{Cost[i,j]*Sup[i,j], j=1:5}<= 5400*33.43)\n",
    "end\n",
    "\n",
    "status = solve(m)\n",
    "println(\"Objective value is \", getobjectivevalue(m) )\n",
    "getvalue(Sup)\n",
    "\n"
   ]
  },
  {
   "cell_type": "code",
   "execution_count": 5,
   "metadata": {
    "collapsed": false
   },
   "outputs": [
    {
     "name": "stdout",
     "output_type": "stream",
     "text": [
      "Optimize a model with 30 rows, 50 columns and 138 nonzeros\n",
      "Coefficient statistics:\n",
      "  Matrix range    [1e+00, 2e+03]\n",
      "  Objective range [2e+02, 2e+03]\n",
      "  Bounds range    [1e+00, 1e+00]\n",
      "  RHS range       [1e+00, 2e+05]\n",
      "Found heuristic solution: objective 5598.58\n",
      "Presolve removed 30 rows and 50 columns\n",
      "Presolve time: 0.00s\n",
      "Presolve: All rows and columns removed\n",
      "\n",
      "Explored 0 nodes (0 simplex iterations) in 0.00 seconds\n",
      "Thread count was 1 (of 4 available processors)\n",
      "\n",
      "Optimal solution found (tolerance 1.00e-04)\n",
      "Best objective 5.117103000000e+03, best bound 5.117103000000e+03, gap 0.0%\n",
      "Objective value is 5117.103\n"
     ]
    },
    {
     "data": {
      "text/plain": [
       "10×5 Array{Float64,2}:\n",
       " 1.0  0.0  0.0  0.0  0.0\n",
       " 0.0  0.0  1.0  0.0  0.0\n",
       " 0.0  0.0  1.0  0.0  0.0\n",
       " 0.0  0.0  1.0  0.0  0.0\n",
       " 1.0  0.0  0.0  0.0  0.0\n",
       " 0.0  0.0  1.0  0.0  0.0\n",
       " 0.0  0.0  1.0  0.0  0.0\n",
       " 0.0  1.0  0.0  0.0  0.0\n",
       " 0.0  0.0  1.0  0.0  0.0\n",
       " 1.0  0.0  0.0  0.0  0.0"
      ]
     },
     "execution_count": 5,
     "metadata": {},
     "output_type": "execute_result"
    }
   ],
   "source": [
    "# model 1 cost\n",
    "x = getvalue(Sup)\n",
    "Cost.*x\n",
    "sum(Cost.*x)\n",
    "# model 1 prob that all are not replaced\n",
    "y = ones(10,5)\n",
    "x.*(y .- Defect)\n",
    "# model 1 prob that at most 1 need to be replaced \n",
    "a = (Defect ./(y .- Defect)).*x*0.6087\n",
    "sum(a)+0.6087"
   ]
  },
  {
   "cell_type": "code",
   "execution_count": 48,
   "metadata": {
    "collapsed": false
   },
   "outputs": [
    {
     "data": {
      "text/plain": [
       "10×5 Array{Float64,2}:\n",
       " 0.0233872  0.0        0.0         0.0  0.0\n",
       " 0.0        0.0        0.0388532   0.0  0.0\n",
       " 0.0        0.0        0.00677017  0.0  0.0\n",
       " 0.0        0.0        0.0130569   0.0  0.0\n",
       " 0.0444116  0.0        0.0         0.0  0.0\n",
       " 0.0        0.0        0.0395428   0.0  0.0\n",
       " 0.0        0.0        0.0188258   0.0  0.0\n",
       " 0.0        0.0374783  0.0         0.0  0.0\n",
       " 0.0        0.0        0.038165    0.0  0.0\n",
       " 0.05078    0.0        0.0         0.0  0.0"
      ]
     },
     "execution_count": 48,
     "metadata": {},
     "output_type": "execute_result"
    }
   ],
   "source": [
    "# model 2\n",
    "\n",
    "using JuMP\n",
    "using Gurobi\n",
    "using DataFrames\n",
    "\n",
    "m = Model()\n",
    "\n",
    "@variable(m, Sup[i = 1:10, j = 1:5],Bin)\n",
    "\n",
    "df = readtable(\"/Users/lyynikki/Desktop/1.csv\")\n",
    "cost_raw = df[:Cost_NT_]\n",
    "ul = df[:UL_Certified]\n",
    "extra_cost = df[:Extra_Pre_Assembly_Cost_NT_]\n",
    "defect_raw = df[:Defect_Rate]\n",
    "total_cost_unshaped = [(cost_raw[i]+extra_cost[i]) *(1+defect_raw[i]) for i=1:43]\n",
    "\n",
    "UL = zeros(10,5)\n",
    "UL[1,1:4] = ul[1:4]\n",
    "UL[2,1:5] = ul[5:9]\n",
    "UL[3,1:4] = ul[10:13]\n",
    "UL[4,1:5] = ul[14:18]\n",
    "UL[5,1:4] = ul[19:22]\n",
    "UL[6,1:4] = ul[23:26]\n",
    "UL[7,1:4] = ul[27:30]\n",
    "UL[8,1:5] = ul[31:35]\n",
    "UL[9,1:5] = ul[36:40]\n",
    "UL[10,1:3] = ul[41:43]\n",
    "UL\n",
    "\n",
    "Cost = zeros(10,5)\n",
    "Cost[1,1:4] = total_cost_unshaped[1:4]\n",
    "Cost[2,1:5] = total_cost_unshaped[5:9]\n",
    "Cost[3,1:4] = total_cost_unshaped[10:13]\n",
    "Cost[4,1:5] = total_cost_unshaped[14:18]\n",
    "Cost[5,1:4] = total_cost_unshaped[19:22]\n",
    "Cost[6,1:4] = total_cost_unshaped[23:26]\n",
    "Cost[7,1:4] = total_cost_unshaped[27:30]\n",
    "Cost[8,1:5] = total_cost_unshaped[31:35]\n",
    "Cost[9,1:5] = total_cost_unshaped[36:40]\n",
    "Cost[10,1:3] = total_cost_unshaped[41:43]\n",
    "Cost\n",
    "\n",
    "Defect = zeros(10,5)\n",
    "Defect[1,1:4] = defect_raw[1:4]\n",
    "Defect[2,1:5] = defect_raw[5:9]\n",
    "Defect[3,1:4] = defect_raw[10:13]\n",
    "Defect[4,1:5] = defect_raw[14:18]\n",
    "Defect[5,1:4] = defect_raw[19:22]\n",
    "Defect[6,1:4] = defect_raw[23:26]\n",
    "Defect[7,1:4] = defect_raw[27:30]\n",
    "Defect[8,1:5] = defect_raw[31:35]\n",
    "Defect[9,1:5] = defect_raw[36:40]\n",
    "Defect[10,1:3] = defect_raw[41:43]\n",
    "Defect\n",
    "\n",
    "\n",
    "@objective(m, Min, sum{Defect[i,j]*Sup[i,j], i=1:10, j=1:5})\n",
    "for i=1:10\n",
    "    @constraint(m, sum{Sup[i, j], j = 1:5} == 1)\n",
    "end\n",
    "\n",
    "@constraint(m, Sup[1,3]+Sup[2,3]<=1)\n",
    "@constraint(m, sum{UL[i,j]*Sup[i,j],i = 1:10, j = 1:5} >= 7)\n",
    "@constraint(m,Sup[2,1]== Sup[4,2])\n",
    "@constraint(m,Sup[1,5] == Sup[3,5])\n",
    "@constraint(m,Sup[5,5] == Sup[6,5])\n",
    "@constraint(m,Sup[7,5] == Sup[10,5])\n",
    "@constraint(m,Sup[10,4] == 0)\n",
    "@constraint(m,Sup[1,5] == 0)\n",
    "@constraint(m,Sup[5,5] == 0)\n",
    "@constraint(m,Sup[7,5] == 0)\n",
    "\n",
    "for i=1:10\n",
    "@constraint(m,sum{ExtraCost[i,j]*Sup[i,j], j=1:5}+sum{Cost[i,j]*Sup[i,j], j=1:5}<= 5400*33.43)\n",
    "end\n",
    "\n",
    "status = solve(m)\n",
    "println(\"Objective value is \", getobjectivevalue(m) )\n",
    "getvalue(Sup)"
   ]
  },
  {
   "cell_type": "code",
   "execution_count": 43,
   "metadata": {
    "collapsed": false
   },
   "outputs": [
    {
     "data": {
      "text/plain": [
       "10×5 Array{Float64,2}:\n",
       " 0.963  0.0    0.0    0.0  0.0\n",
       " 0.0    0.0    0.94   0.0  0.0\n",
       " 0.0    0.0    0.989  0.0  0.0\n",
       " 0.0    0.0    0.979  0.0  0.0\n",
       " 0.932  0.0    0.0    0.0  0.0\n",
       " 0.0    0.0    0.939  0.0  0.0\n",
       " 0.0    0.0    0.97   0.0  0.0\n",
       " 0.0    0.942  0.0    0.0  0.0\n",
       " 0.0    0.0    0.941  0.0  0.0\n",
       " 0.923  0.0    0.0    0.0  0.0"
      ]
     },
     "execution_count": 43,
     "metadata": {},
     "output_type": "execute_result"
    }
   ],
   "source": [
    "# model 2 cost\n",
    "x = getvalue(Sup)\n",
    "Cost.*x\n",
    "sum(Cost.*x)\n",
    "# model 2 prob that all are not replaced\n",
    "y = ones(10,5)\n",
    "x.*(y .- Defect)\n",
    "# model 2 prob that at most 1 need to replace \n",
    "a = (Defect ./(y .- Defect)).*x*0.8052\n",
    "sum(a)+0.8052"
   ]
  },
  {
   "cell_type": "code",
   "execution_count": 47,
   "metadata": {
    "collapsed": false
   },
   "outputs": [
    {
     "data": {
      "text/plain": [
       "0.9199709960719735"
      ]
     },
     "execution_count": 47,
     "metadata": {},
     "output_type": "execute_result"
    }
   ],
   "source": [
    "# model 3\n",
    "using JuMP\n",
    "using Gurobi\n",
    "using DataFrames\n",
    "\n",
    "m = Model()\n",
    "\n",
    "@variable(m, Sup[i = 1:10, j = 1:5],Bin)\n",
    "\n",
    "df = readtable(\"/Users/lyynikki/Desktop/1.csv\")\n",
    "cost_raw = df[:Cost_NT_]\n",
    "ul = df[:UL_Certified]\n",
    "extra_cost = df[:Extra_Pre_Assembly_Cost_NT_]\n",
    "defect_raw = df[:Defect_Rate]\n",
    "total_cost_unshaped = [(cost_raw[i]+extra_cost[i])for i=1:43]\n",
    "\n",
    "UL = zeros(10,5)\n",
    "UL[1,1:4] = ul[1:4]\n",
    "UL[2,1:5] = ul[5:9]\n",
    "UL[3,1:4] = ul[10:13]\n",
    "UL[4,1:5] = ul[14:18]\n",
    "UL[5,1:4] = ul[19:22]\n",
    "UL[6,1:4] = ul[23:26]\n",
    "UL[7,1:4] = ul[27:30]\n",
    "UL[8,1:5] = ul[31:35]\n",
    "UL[9,1:5] = ul[36:40]\n",
    "UL[10,1:3] = ul[41:43]\n",
    "UL\n",
    "\n",
    "Cost = zeros(10,5)\n",
    "Cost[1,1:4] = total_cost_unshaped[1:4]\n",
    "Cost[2,1:5] = total_cost_unshaped[5:9]\n",
    "Cost[3,1:4] = total_cost_unshaped[10:13]\n",
    "Cost[4,1:5] = total_cost_unshaped[14:18]\n",
    "Cost[5,1:4] = total_cost_unshaped[19:22]\n",
    "Cost[6,1:4] = total_cost_unshaped[23:26]\n",
    "Cost[7,1:4] = total_cost_unshaped[27:30]\n",
    "Cost[8,1:5] = total_cost_unshaped[31:35]\n",
    "Cost[9,1:5] = total_cost_unshaped[36:40]\n",
    "Cost[10,1:3] = total_cost_unshaped[41:43]\n",
    "Cost\n",
    "\n",
    "Defect = zeros(10,5)\n",
    "Defect[1,1:4] = defect_raw[1:4]\n",
    "Defect[2,1:5] = defect_raw[5:9]\n",
    "Defect[3,1:4] = defect_raw[10:13]\n",
    "Defect[4,1:5] = defect_raw[14:18]\n",
    "Defect[5,1:4] = defect_raw[19:22]\n",
    "Defect[6,1:4] = defect_raw[23:26]\n",
    "Defect[7,1:4] = defect_raw[27:30]\n",
    "Defect[8,1:5] = defect_raw[31:35]\n",
    "Defect[9,1:5] = defect_raw[36:40]\n",
    "Defect[10,1:3] = defect_raw[41:43]\n",
    "Defect\n",
    "\n",
    "@objective(m, Min, sum{Defect[i,j]*Sup[i,j]*Cost[i,j], i=1:10, j=1:5})\n",
    "for i=1:10\n",
    "    @constraint(m, sum{Sup[i, j], j = 1:5} == 1)\n",
    "end\n",
    "\n",
    "@constraint(m, Sup[1,3]+Sup[2,3]<=1)\n",
    "@constraint(m, sum{UL[i,j]*Sup[i,j],i = 1:10, j = 1:5} >= 7)\n",
    "@constraint(m,Sup[2,1]== Sup[4,2])\n",
    "@constraint(m,Sup[1,5] == Sup[3,5])\n",
    "@constraint(m,Sup[5,5] == Sup[6,5])\n",
    "@constraint(m,Sup[7,5] == Sup[10,5])\n",
    "@constraint(m,Sup[10,4] == 0)\n",
    "@constraint(m,Sup[1,5] == 0)\n",
    "@constraint(m,Sup[5,5] == 0)\n",
    "@constraint(m,Sup[7,5] == 0)\n",
    "\n",
    "for i=1:10\n",
    "    @constraint(m,sum{(1+Defect[i,j])*Sup[i,j]*Cost[i,j],i=1:10, j=1:5}<= 5400*33.43)\n",
    "end\n",
    "\n",
    "status = solve(m)\n",
    "println(\"Objective value is \", getobjectivevalue(m) )\n",
    "getvalue(Sup)"
   ]
  },
  {
   "cell_type": "code",
   "execution_count": 30,
   "metadata": {
    "collapsed": false
   },
   "outputs": [
    {
     "data": {
      "text/plain": [
       "(0.037,0.06,0.011,0.021,0.068,0.061,0.03,0.058,0.059,0.077)"
      ]
     },
     "execution_count": 30,
     "metadata": {},
     "output_type": "execute_result"
    }
   ],
   "source": [
    "total_cost_unshaped = [(cost_raw[i]+extra_cost[i]) *(1+defect_raw[i]) for i=1:43]\n",
    "Cost = zeros(10,5)\n",
    "Cost[1,1:4] = total_cost_unshaped[1:4]\n",
    "Cost[2,1:5] = total_cost_unshaped[5:9]\n",
    "Cost[3,1:4] = total_cost_unshaped[10:13]\n",
    "Cost[4,1:5] = total_cost_unshaped[14:18]\n",
    "Cost[5,1:4] = total_cost_unshaped[19:22]\n",
    "Cost[6,1:4] = total_cost_unshaped[23:26]\n",
    "Cost[7,1:4] = total_cost_unshaped[27:30]\n",
    "Cost[8,1:5] = total_cost_unshaped[31:35]\n",
    "Cost[9,1:5] = total_cost_unshaped[36:40]\n",
    "Cost[10,1:3] = total_cost_unshaped[41:43]\n",
    "Cost\n",
    "\n",
    "x = getvalue(Sup)\n",
    "Cost.*x\n",
    "sum(Cost.*x)"
   ]
  },
  {
   "cell_type": "code",
   "execution_count": 53,
   "metadata": {
    "collapsed": false
   },
   "outputs": [
    {
     "data": {
      "text/plain": [
       "0"
      ]
     },
     "execution_count": 53,
     "metadata": {},
     "output_type": "execute_result"
    }
   ],
   "source": [
    "#model 3 prob 1\n",
    "y = ones(10,5)\n",
    "x.*(y .- Defect)\n",
    "# model 3 prob 2\n",
    "a = (Defect ./(y .- Defect)).*x*0.8043\n",
    "sum(a) + 0.8043\n"
   ]
  }
 ],
 "metadata": {
  "anaconda-cloud": {},
  "kernelspec": {
   "display_name": "Julia 0.5.0",
   "language": "julia",
   "name": "julia-0.5"
  },
  "language_info": {
   "file_extension": ".jl",
   "mimetype": "application/julia",
   "name": "julia",
   "version": "0.5.0"
  }
 },
 "nbformat": 4,
 "nbformat_minor": 1
}
