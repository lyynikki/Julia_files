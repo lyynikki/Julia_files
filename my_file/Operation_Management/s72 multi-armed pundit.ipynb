{
 "cells": [
  {
   "cell_type": "code",
   "execution_count": 2,
   "metadata": {
    "collapsed": false
   },
   "outputs": [
    {
     "data": {
      "text/plain": [
       "0"
      ]
     },
     "execution_count": 2,
     "metadata": {},
     "output_type": "execute_result"
    }
   ],
   "source": [
    "using Distributions\n",
    "using DataFrames\n",
    "df = readtable(\"/Users/lyynikki/Desktop/Course/15.s72/hw/15.s72+HW9/training.csv\")"
   ]
  },
  {
   "cell_type": "code",
   "execution_count": 54,
   "metadata": {
    "collapsed": false
   },
   "outputs": [
    {
     "name": "stderr",
     "output_type": "stream",
     "text": [
      "WARNING: Method definition eps_greedy(Any, Any) in module Main at In[45]:2 overwritten at In[54]:2.\n"
     ]
    },
    {
     "data": {
      "text/plain": [
       "eps_greedy (generic function with 1 method)"
      ]
     },
     "execution_count": 54,
     "metadata": {},
     "output_type": "execute_result"
    }
   ],
   "source": [
    "function eps_greedy(eps, revenue)\n",
    "    counts = zeros(3); # Number of times each assortment is picked so far\n",
    "    rewards = zeros(3); # Rewards from each assortment so far\n",
    "    record_pulls = []; # Which decisions were made\n",
    "    for t=1:250\n",
    "        next_arm = (rand() <= eps ? rand(1:3) : indmax(rewards./counts) ) \n",
    "        counts[next_arm] += 1\n",
    "        rewards[next_arm] += revenue[t,next_arm]\n",
    "        push!(record_pulls, next_arm)\n",
    "    end\n",
    "    return sum(rewards), record_pulls\n",
    "    # Adapt lecture code here. You may want to pass the decision horizon as an argument to the function, in which case it should be defined as eps_greedy(eps, revenue, horizon) and called accordingly from the code.\n",
    "end"
   ]
  },
  {
   "cell_type": "code",
   "execution_count": 55,
   "metadata": {
    "collapsed": false
   },
   "outputs": [
    {
     "ename": "LoadError",
     "evalue": "LoadError: MethodError: objects of type Float64 are not callable\nwhile loading In[55], in expression starting on line 1",
     "output_type": "error",
     "traceback": [
      "LoadError: MethodError: objects of type Float64 are not callable\nwhile loading In[55], in expression starting on line 1",
      "",
      " in eps_greedy(::Float64, ::DataFrames.DataFrame) at ./In[54]:11",
      " in macro expansion; at ./In[55]:2 [inlined]",
      " in anonymous at ./<missing>:?"
     ]
    }
   ],
   "source": [
    "for parameter1=0.02:0.02:0.4 # If these are reasonable bounds and step sizes\n",
    "    score, record = eps_greedy(parameter1,df)\n",
    "    println(\"For parameter1=$parameter1, eps_greedy scored $score\")\n",
    "end"
   ]
  },
  {
   "cell_type": "code",
   "execution_count": 30,
   "metadata": {
    "collapsed": false
   },
   "outputs": [
    {
     "name": "stderr",
     "output_type": "stream",
     "text": [
      "WARNING: Method definition eps_decreasing(Any, Any, Any) in module Main at In[16]:2 overwritten at In[30]:2.\n"
     ]
    },
    {
     "data": {
      "text/plain": [
       "eps_decreasing (generic function with 2 methods)"
      ]
     },
     "execution_count": 30,
     "metadata": {},
     "output_type": "execute_result"
    }
   ],
   "source": [
    "function eps_decreasing(eps, revenue,drate)\n",
    "    counts = zeros(3); # Number of times each assortment is picked so far\n",
    "    rewards = zeros(3); # Rewards from each assortment so far\n",
    "    record_pulls = []; # Which decisions were made\n",
    "    \n",
    "    for t=1:250\n",
    "        next_arm = (rand() <= eps ? rand(1:3) : indmax(rewards./counts) )\n",
    "        counts[next_arm] += 1\n",
    "        rewards[next_arm] += revenue[t,next_arm]\n",
    "        push!(record_pulls, next_arm)\n",
    "        eps *= drate # Epsilon decreases by 1% each time\n",
    "    end\n",
    "    return sum(rewards), record_pulls\n",
    "end"
   ]
  },
  {
   "cell_type": "code",
   "execution_count": 53,
   "metadata": {
    "collapsed": false
   },
   "outputs": [
    {
     "ename": "LoadError",
     "evalue": "LoadError: UndefVarError: parameter2 not defined\nwhile loading In[53], in expression starting on line 1",
     "output_type": "error",
     "traceback": [
      "LoadError: UndefVarError: parameter2 not defined\nwhile loading In[53], in expression starting on line 1",
      ""
     ]
    }
   ],
   "source": [
    "parameter2 = 1.0, drate = 0.99\n",
    "score, record = eps_decreasing(parameter2,df,drate)\n",
    "println(\"For parameter2=$parameter2, drate = $drate paramete eps_decreasing $score\")"
   ]
  },
  {
   "cell_type": "code",
   "execution_count": 39,
   "metadata": {
    "collapsed": false
   },
   "outputs": [
    {
     "name": "stdout",
     "output_type": "stream",
     "text": [
      "thompson rewards = thompson [3.0,141.0,7.0]\n"
     ]
    },
    {
     "name": "stderr",
     "output_type": "stream",
     "text": [
      "WARNING: Method definition thompson(Any) in module Main at In[38]:2 overwritten at In[39]:2.\n"
     ]
    }
   ],
   "source": [
    "function thompson(revenue) # We want to know how sure we are of our estimate\n",
    "    counts = zeros(3);\n",
    "    rewards = zeros(3);\n",
    "    record_pulls = []; \n",
    "    a = ones(3);\n",
    "    b = ones(3);\n",
    "    nets = zeros(3);\n",
    "    netf = zeros(3);\n",
    "    for t=1:250\n",
    "        sampled_parameters = (rand(Beta(a[1],b[1])),rand(Beta(a[2],b[2])),rand(Beta(a[3],b[3])))\n",
    "        next_arm = indmax(sampled_parameters) \n",
    "        nets[next_arm] = revenue[t,next_arm]\n",
    "        netf[next_arm] = 1 - nets[next_arm]\n",
    "        rewards[next_arm] += revenue[t,next_arm]\n",
    "        a += nets\n",
    "        b += netf\n",
    "        nets = zeros(3)\n",
    "        netf = zeros(3)\n",
    "        push!(record_pulls, next_arm)\n",
    "    end\n",
    "    return rewards,record_pulls\n",
    "end\n",
    "\n",
    "score, record = thompson(df)\n",
    "println(\"thompson rewards = thompson $score\")\n"
   ]
  },
  {
   "cell_type": "code",
   "execution_count": 114,
   "metadata": {
    "collapsed": false
   },
   "outputs": [
    {
     "data": {
      "text/plain": [
       "0"
      ]
     },
     "execution_count": 114,
     "metadata": {},
     "output_type": "execute_result"
    }
   ],
   "source": [
    "\n"
   ]
  },
  {
   "cell_type": "code",
   "execution_count": 40,
   "metadata": {
    "collapsed": false
   },
   "outputs": [
    {
     "ename": "LoadError",
     "evalue": "LoadError: UndefVarError: test1 not defined\nwhile loading In[40], in expression starting on line 2",
     "output_type": "error",
     "traceback": [
      "LoadError: UndefVarError: test1 not defined\nwhile loading In[40], in expression starting on line 2",
      ""
     ]
    }
   ],
   "source": [
    "parameter1=0.08\n",
    "score, record = eps_greedy(parameter1,test1)\n",
    "println(\"For parameter1=$parameter1, eps_greedy scored $score\")\n",
    "\n",
    "parameter2=1.0 \n",
    "score, record = eps_decreasing(parameter2,test1)\n",
    "println(\"For parameter2=$parameter2, eps_decreasing $score\")\n",
    "\n",
    "score, record = thompson(test1)\n",
    "println(\"thompson $score\")"
   ]
  },
  {
   "cell_type": "code",
   "execution_count": 120,
   "metadata": {
    "collapsed": false
   },
   "outputs": [
    {
     "name": "stdout",
     "output_type": "stream",
     "text": [
      "For parameter1=0.4, eps_greedy scored 46.0\n",
      "For parameter2=1.0, eps_decreasing 45.0\n",
      "thompson 53, thompsonAny[1,1,2,1,2,2,2,3,3,2,3,3,2,3,2,3,2,2,2,2,2,2,2,2,2,2,2,2,2,2,2,2,2,2,3,2,2,2,3,3,2,3,2,3,1,1,2,2,2,2,2,1,2,2,2,2,2,3,2,3,1,2,1,2,3,2,2,3,2,2,1,2,2,3,2,2,2,2,2,3,3,3,2,2,2,2,2,2,2,2,2,1,2,2,2,2,2,2,2,2]\n"
     ]
    }
   ],
   "source": []
  },
  {
   "cell_type": "code",
   "execution_count": 117,
   "metadata": {
    "collapsed": false
   },
   "outputs": [
    {
     "name": "stdout",
     "output_type": "stream",
     "text": [
      "For parameter1=0.4, eps_greedy scored 97.0\n",
      "For parameter2=1.0, eps_decreasing 97.0\n",
      "thompson 88, thompsonAny[3,1,3,1,3,3,3,3,2,3,3,1,2,2,2,3,2,3,3,2,2,2,3,3,2,3,2,2,2,1,2,3,2,2,2,2,3,3,2,2,2,2,2,2,2,2,2,2,1,1,2,3,2,1,2,2,1,3,3,2,2,2,2,3,2,1,1,1,3,3,2,3,1,3,2,2,2,2,2,1,1,2,3,2,2,1,2,1,2,2,2,3,3,2,3,2,3,2,2,2,1,2,2,2,2,2,1,2,2,3,2,2,3,2,3,2,2,2,1,2,3,3,2,2,2,2,2,2,2,2,3,2,2,3,3,2,3,2,1,2,2,1,2,2,2,2,2,2,2,1,3,2,2,3,2,3,3,2,3,1,2,2,3,2,2,2,2,3,2,3,3,3,3,2,3,2,3,3,2,1,3,3,3,1,3,3,2,3,3,2,3,3,3,2,2,3,3,3,2,3]\n"
     ]
    }
   ],
   "source": [
    "parameter1=0.4 \n",
    "score, record = eps_greedy(parameter1,test2)\n",
    "println(\"For parameter1=$parameter1, eps_greedy scored $score\")\n",
    "\n",
    "parameter2=1.0 \n",
    "score, record = eps_decreasing(parameter2,test2)\n",
    "println(\"For parameter2=$parameter2, eps_decreasing $score\")\n",
    "\n",
    "score, record = thompson(test2)\n",
    "println(\"thompson $score, thompson$record\")"
   ]
  },
  {
   "cell_type": "code",
   "execution_count": null,
   "metadata": {
    "collapsed": false
   },
   "outputs": [],
   "source": []
  },
  {
   "cell_type": "code",
   "execution_count": 89,
   "metadata": {
    "collapsed": false
   },
   "outputs": [
    {
     "data": {
      "text/plain": [
       "([0.0,0.0,1.0],[0.0,0.0,1.0])"
      ]
     },
     "execution_count": 89,
     "metadata": {},
     "output_type": "execute_result"
    }
   ],
   "source": []
  },
  {
   "cell_type": "code",
   "execution_count": 80,
   "metadata": {
    "collapsed": false
   },
   "outputs": [
    {
     "data": {
      "text/plain": [
       "0"
      ]
     },
     "execution_count": 80,
     "metadata": {},
     "output_type": "execute_result"
    }
   ],
   "source": []
  },
  {
   "cell_type": "code",
   "execution_count": null,
   "metadata": {
    "collapsed": true
   },
   "outputs": [],
   "source": []
  }
 ],
 "metadata": {
  "anaconda-cloud": {},
  "kernelspec": {
   "display_name": "Julia 0.5.0",
   "language": "julia",
   "name": "julia-0.5"
  },
  "language_info": {
   "file_extension": ".jl",
   "mimetype": "application/julia",
   "name": "julia",
   "version": "0.5.0"
  }
 },
 "nbformat": 4,
 "nbformat_minor": 1
}
