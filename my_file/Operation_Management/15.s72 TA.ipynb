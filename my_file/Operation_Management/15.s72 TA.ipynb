{
 "cells": [
  {
   "cell_type": "code",
   "execution_count": 1,
   "metadata": {
    "collapsed": false
   },
   "outputs": [
    {
     "data": {
      "text/plain": [
       "0.5"
      ]
     },
     "execution_count": 1,
     "metadata": {},
     "output_type": "execute_result"
    }
   ],
   "source": [
    "#####\n",
    "# Code for bandits computational example\n",
    "\n",
    "eps1 = 0.1\n",
    "eps2 = 0.5\n",
    "\n",
    "# First we define our bandits\n",
    "###\n"
   ]
  },
  {
   "cell_type": "code",
   "execution_count": 2,
   "metadata": {
    "collapsed": false
   },
   "outputs": [
    {
     "data": {
      "text/plain": [
       "thompson (generic function with 1 method)"
      ]
     },
     "execution_count": 2,
     "metadata": {},
     "output_type": "execute_result"
    }
   ],
   "source": [
    "function eps_greedy(eps, revenue)\n",
    "    counts = zeros(5); # Number of times each assortment is picked so far\n",
    "    rewards = zeros(5); # Rewards from each assortment so far\n",
    "    record_pulls = []; # Which decisions were made\n",
    "\n",
    "    for t=1:52\n",
    "        next_arm = (rand() <= eps ? rand(1:5) : indmax(rewards./counts) ) # ?: is the ternary if operator. A?B:C will take B if A is true, and C if A is false\n",
    "        counts[next_arm] += 1\n",
    "        rewards[next_arm] += revenue[next_arm, t]\n",
    "        push!(record_pulls, next_arm)\n",
    "    end\n",
    "    return sum(rewards), record_pulls\n",
    "end\n",
    "\n",
    "###\n",
    "function eps_decreasing(eps, revenue)\n",
    "    counts = zeros(5); # Number of times each assortment is picked so far\n",
    "    rewards = zeros(5); # Rewards from each assortment so far\n",
    "    record_pulls = []; # Which decisions were made\n",
    "    \n",
    "    for t=1:52\n",
    "        next_arm = (rand() <= eps ? rand(1:5) : indmax(rewards./counts) )\n",
    "        counts[next_arm] += 1\n",
    "        rewards[next_arm] += revenue[next_arm, t]\n",
    "        push!(record_pulls, next_arm)\n",
    "        eps *= 0.99 # Epsilon decreases by 1% each time\n",
    "    end\n",
    "    return sum(rewards), record_pulls\n",
    "end\n",
    "\n",
    "###\n",
    "function thompson(estimate, prev_weeks, revenue) # We want to know how sure we are of our estimate\n",
    "    counts = zeros(5);\n",
    "    rewards = zeros(5);\n",
    "    record_pulls = []; # Which decisions were made\n",
    "    \n",
    "    for t=1:52\n",
    "        # Posterior expression here: https://en.wikipedia.org/wiki/Conjugate_prior\n",
    "        # with sigma_0 equal to sigma for simplicity\n",
    "        sampled_parameters = ( (estimate*prev_weeks+rewards) ./ (prev_weeks+counts) ) + 100./(prev_weeks+counts).*randn(5,1)\n",
    "        next_arm = indmax(sampled_parameters) # Since for a normal distribution, the expected reward is just the value of the mean parameter\n",
    "        counts[next_arm] += 1\n",
    "        rewards[next_arm] += revenue[next_arm, t]\n",
    "        push!(record_pulls, next_arm)\n",
    "    end\n",
    "    return sum(rewards), record_pulls\n",
    "end\n",
    "\n",
    "###\n",
    "\n"
   ]
  },
  {
   "cell_type": "code",
   "execution_count": 3,
   "metadata": {
    "collapsed": false
   },
   "outputs": [
    {
     "data": {
      "text/plain": [
       "6-element Array{Float64,1}:\n",
       " 0.0\n",
       " 0.0\n",
       " 0.0\n",
       " 0.0\n",
       " 0.0\n",
       " 0.0"
      ]
     },
     "execution_count": 3,
     "metadata": {},
     "output_type": "execute_result"
    }
   ],
   "source": [
    "total_revenue = zeros(6); # Stores revenue across scenarios\n"
   ]
  },
  {
   "cell_type": "code",
   "execution_count": 4,
   "metadata": {
    "collapsed": true
   },
   "outputs": [],
   "source": [
    "for scenario=1:100\n",
    "\n",
    "###\n",
    "# Generating the true underlying data for purpose of comparing different algorithms - Note: the decision maker does not observe these true values when making decisions\n",
    "srand(scenario);\n",
    "mu = 100*randn(5)+500*ones(5); # Mean revenue\n",
    "revenue = 100*randn(5,52)+repmat(mu,1,52); # Our revenue is normal with means themselves normally distributed\n",
    "\n",
    "estimate1 = 100*randn(5,1)+mu # One-week estimate\n",
    "estimate2 = mean(100*randn(5,12)+repmat(mu,1,12), 2) # 12-week estimate\n",
    "\n",
    "eps_greedy_score1, eps_greedy_record1 = eps_greedy(eps1, revenue) # You can refer to eps_greedy_record1 to see which arms were pulled by the algorithm. Similarly for the other algorithms.\n",
    "eps_greedy_score2, eps_greedy_record2 = eps_greedy(eps2, revenue)\n",
    "eps_decreasing_score1, eps_decreasing_record1 = eps_decreasing(eps1, revenue)\n",
    "eps_decreasing_score2, eps_decreasing_record2 = eps_decreasing(eps2, revenue)\n",
    "thompson_score1, thompson_record1 = thompson(estimate1, 1, revenue)\n",
    "thompson_score2, thompson_record2 = thompson(estimate2, 12, revenue)\n",
    "\n",
    "total_revenue += [eps_greedy_score1; eps_greedy_score2; eps_decreasing_score1; eps_decreasing_score2; thompson_score1; thompson_score2]\n",
    "end\n",
    "\n"
   ]
  },
  {
   "cell_type": "code",
   "execution_count": null,
   "metadata": {
    "collapsed": true
   },
   "outputs": [],
   "source": [
    "println(\"Epsilon-greedy, epsilon = $eps1: Average revenue is \", total_revenue[1]/100 )\n",
    "println(\"Epsilon-greedy, epsilon = $eps2: Average revenue is \", total_revenue[2]/100 )\n",
    "println(\"Epsilon-decreasing, epsilon = $eps1: Average revenue is \", total_revenue[3]/100 )\n",
    "println(\"Epsilon-decreasing, epsilon = $eps2: Average revenue is \", total_revenue[4]/100 )\n",
    "println(\"Thompson sampling, one-week estimate to obtain prior: Average revenue is \", total_revenue[5]/100 )\n",
    "println(\"Thompson sampling, twelve-week estimate to obtain prior: Average revenue is \", total_revenue[6]/100 )"
   ]
  }
 ],
 "metadata": {
  "kernelspec": {
   "display_name": "Julia 0.5.0",
   "language": "julia",
   "name": "julia-0.5"
  },
  "language_info": {
   "file_extension": ".jl",
   "mimetype": "application/julia",
   "name": "julia",
   "version": "0.5.0"
  }
 },
 "nbformat": 4,
 "nbformat_minor": 1
}
