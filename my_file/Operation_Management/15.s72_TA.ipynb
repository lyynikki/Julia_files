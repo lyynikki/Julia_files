{
 "cells": [
  {
   "cell_type": "code",
   "execution_count": 5,
   "metadata": {
    "collapsed": false
   },
   "outputs": [
    {
     "name": "stderr",
     "output_type": "stream",
     "text": [
      "INFO: Nothing to be done\n",
      "INFO: METADATA is out-of-date — you may not have the latest version of MAT\n",
      "INFO: Use `Pkg.update()` to get the latest versions of your packages\n",
      "INFO: Cloning cache of GR from https://github.com/jheinen/GR.jl.git\n",
      "INFO: Installing GR v0.17.0\n",
      "INFO: Building GR\n",
      "INFO: Downloading pre-compiled GR 0.21.0 Darwin binary\n",
      "  % Total    % Received % Xferd  Average Speed   Time    Time     Time  Current\n",
      "                                 Dload  Upload   Total   Spent    Left  Speed\n",
      "100 20.8M  100 20.8M    0     0  3006k      0  0:00:07  0:00:07 --:--:-- 4516k\n",
      "INFO: Package database updated\n",
      "INFO: METADATA is out-of-date — you may not have the latest version of GR\n",
      "INFO: Use `Pkg.update()` to get the latest versions of your packages\n",
      "INFO: Precompiling module GR.\n"
     ]
    },
    {
     "data": {
      "text/plain": [
       "Plots.GRBackend()"
      ]
     },
     "execution_count": 5,
     "metadata": {},
     "output_type": "execute_result"
    }
   ],
   "source": [
    "Pkg.add(\"MAT\")\n",
    "Pkg.add(\"GR\")\n",
    "using MAT # This package enables reading .mat files\n",
    "using JuMP \n",
    "using Plots\n",
    "using Interact\n",
    "gr()"
   ]
  },
  {
   "cell_type": "code",
   "execution_count": 3,
   "metadata": {
    "collapsed": false
   },
   "outputs": [
    {
     "ename": "LoadError",
     "evalue": "LoadError: File \"ieee_test_system.mat\" does not exist and create was not specified\nwhile loading In[3], in expression starting on line 1",
     "output_type": "error",
     "traceback": [
      "LoadError: File \"ieee_test_system.mat\" does not exist and create was not specified\nwhile loading In[3], in expression starting on line 1",
      "",
      " in matopen(::String, ::Bool, ::Bool, ::Bool, ::Bool, ::Bool) at /Users/lyynikki/.julia/v0.5/MAT/src/MAT.jl:47",
      " in matopen(::String, ::String) at /Users/lyynikki/.julia/v0.5/MAT/src/MAT.jl:91",
      " in matopen(::String) at /Users/lyynikki/.julia/v0.5/MAT/src/MAT.jl:100"
     ]
    }
   ],
   "source": [
    "file = matopen(\"ieee_test_system.mat\") # open the .mat file with input data\n",
    "c_g=read(file, \"c_g\") # incremental costs of generators\n",
    "c_g0=read(file, \"c_g0\") # no load costs of generators\n",
    "g_max=read(file, \"g_max\") # maximum power outputs of generators\n",
    "g_min=read(file, \"g_min\") # minimum power outputs of generators\n",
    "g_map=read(file, \"g_map\") # map of generators\n",
    "\n",
    "d=read(file, \"d\") # demand\n",
    "\n",
    "w_f=read(file, \"w_f\") # wind forecasts for each wind farm\n",
    "w_map=read(file, \"w_map\") # map of wind farms\n",
    "\n",
    "f_map=read(file, \"f_map\") # map of transmission lines\n",
    "f_max=read(file, \"f_max\") #maximum power flow limits of transmission lines \n",
    "x=read(file, \"x\") # reactance of transmission lines\n",
    "close(file)\n",
    "\n",
    "N_gen = length(c_g) # number of generators\n",
    "N_bus = length(d) # number of buses\n",
    "N_line = length(f_max) # number of lines\n",
    "N_wind = length(w_f) # number of wind farms\n",
    "\n",
    "\n",
    "c_w = 10 # dispatch cost of wind generation"
   ]
  },
  {
   "cell_type": "code",
   "execution_count": 4,
   "metadata": {
    "collapsed": false
   },
   "outputs": [
    {
     "ename": "LoadError",
     "evalue": "LoadError: UndefVarError: f_map not defined\nwhile loading In[4], in expression starting on line 1",
     "output_type": "error",
     "traceback": [
      "LoadError: UndefVarError: f_map not defined\nwhile loading In[4], in expression starting on line 1",
      ""
     ]
    }
   ],
   "source": [
    "f_map"
   ]
  },
  {
   "cell_type": "code",
   "execution_count": null,
   "metadata": {
    "collapsed": true
   },
   "outputs": [],
   "source": [
    "function solve_ed(g_max, g_min, c_g, c_w, d, w_f)\n",
    "    #Define the economic dispatch (ED) model\n",
    "    ed = Model() \n",
    "    \n",
    "    # Define decision variables    \n",
    "    @variable(ed, g_min[i] <= g[i=1:N_gen] <= g_max[i]) # power output of generators\n",
    "    @variable(ed, 0 <= w  <= w_f ) # wind power injection\n",
    "\n",
    "    # Define the objective function\n",
    "    @objective(ed,Min,sum(c_g[i] * g[i] for i=1:N_gen)+ c_w * w)\n",
    "\n",
    "    # Define the constraint on the wind power injection\n",
    "    @constraint(ed, w <= w_f)\n",
    "\n",
    "    # Define the power balance constraint\n",
    "    @constraint(ed, sum(g[i] for i=1:N_gen) + w == d)\n",
    "\n",
    "    # Solve statement\n",
    "    solve(ed)\n",
    "    # return the optimal value of the objective function and its minimizers\n",
    "    return getvalue(g), getvalue(w), w_f-getvalue(w), getobjectivevalue(ed)\n",
    "end"
   ]
  }
 ],
 "metadata": {
  "kernelspec": {
   "display_name": "Julia 0.5.0",
   "language": "julia",
   "name": "julia-0.5"
  },
  "language_info": {
   "file_extension": ".jl",
   "mimetype": "application/julia",
   "name": "julia",
   "version": "0.5.0"
  }
 },
 "nbformat": 4,
 "nbformat_minor": 1
}
