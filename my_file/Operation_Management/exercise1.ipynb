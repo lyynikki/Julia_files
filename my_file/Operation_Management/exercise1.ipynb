{
 "cells": [
  {
   "cell_type": "code",
   "execution_count": 20,
   "metadata": {
    "collapsed": false
   },
   "outputs": [
    {
     "name": "stderr",
     "output_type": "stream",
     "text": [
      "WARNING: Method definition my(Any, Any, Any) in module Main at In[19]:6 overwritten at In[20]:6.\n"
     ]
    },
    {
     "ename": "LoadError",
     "evalue": "LoadError: UndefVarError: FALSE not defined\nwhile loading In[20], in expression starting on line 17",
     "output_type": "error",
     "traceback": [
      "LoadError: UndefVarError: FALSE not defined\nwhile loading In[20], in expression starting on line 17",
      "",
      " in my(::Array{Float64,2}, ::Array{Float64,1}, ::Array{Float64,1}) at ./In[20]:9"
     ]
    }
   ],
   "source": [
    "### a failed attempt to build a model\n",
    "\n",
    "A = rand(10,3)\n",
    "x = rand(3)\n",
    "b = rand(10)\n",
    "\n",
    "function my(A,x,b)\n",
    "    c = []\n",
    "    for i = 1:10\n",
    "        m = dot(A[i,:],x) <= b[i]\n",
    "        if m == FALSE\n",
    "            c = push!(i)\n",
    "        else i = 1+1\n",
    "        end\n",
    "    end\n",
    "c\n",
    "end\n",
    "\n",
    "my(A,x,b)            \n",
    "        "
   ]
  },
  {
   "cell_type": "code",
   "execution_count": null,
   "metadata": {
    "collapsed": true
   },
   "outputs": [],
   "source": []
  },
  {
   "cell_type": "code",
   "execution_count": 26,
   "metadata": {
    "collapsed": false
   },
   "outputs": [
    {
     "data": {
      "text/plain": [
       "18"
      ]
     },
     "execution_count": 26,
     "metadata": {},
     "output_type": "execute_result"
    }
   ],
   "source": [
    "function tt(A,y)\n",
    "    c = dot(A[2,:],y)\n",
    "end\n",
    "\n",
    "A=[1 1 1;2 2 2]\n",
    "y=[2,3,4]\n",
    "\n",
    "tt(A,y)\n",
    "\n"
   ]
  },
  {
   "cell_type": "code",
   "execution_count": 17,
   "metadata": {
    "collapsed": false
   },
   "outputs": [
    {
     "data": {
      "text/plain": [
       "false"
      ]
     },
     "execution_count": 17,
     "metadata": {},
     "output_type": "execute_result"
    }
   ],
   "source": [
    "dot(A[2,:],x) <= b[2]"
   ]
  },
  {
   "cell_type": "code",
   "execution_count": 39,
   "metadata": {
    "collapsed": false
   },
   "outputs": [
    {
     "data": {
      "text/latex": [
       "$$ \\begin{alignat*}{1}\\min\\quad & 10 x_{1,1} + 30 x_{1,2} + 40 x_{1,3} + 40 x_{1,4} + 60 x_{1,5} + 35 x_{2,1} + 20 x_{2,2} + 15 x_{2,3} + 20 x_{2,4} + 30 x_{2,5} + 45 x_{3,1} + 10 x_{3,2} + 10 x_{3,3} + 15 x_{3,4} + 15 x_{3,5}\\\\\n",
       "\\text{Subject to} \\quad & x_{1,1} + x_{1,2} + x_{1,3} + x_{1,4} + x_{1,5} = 200\\\\\n",
       " & x_{2,1} + x_{2,2} + x_{2,3} + x_{2,4} + x_{2,5} = 300\\\\\n",
       " & x_{3,1} + x_{3,2} + x_{3,3} + x_{3,4} + x_{3,5} = 350\\\\\n",
       " & x_{1,1} + x_{2,1} + x_{3,1} = 100\\\\\n",
       " & x_{1,2} + x_{2,2} + x_{3,2} = 300\\\\\n",
       " & x_{1,3} + x_{2,3} + x_{3,3} = 200\\\\\n",
       " & x_{1,4} + x_{2,4} + x_{3,4} = 100\\\\\n",
       " & x_{1,5} + x_{2,5} + x_{3,5} = 150\\\\\n",
       " & x_{i,j} \\geq 0 \\quad\\forall i \\in \\{1,2,3\\}, j \\in \\{1,2,\\dots,4,5\\}\\\\\n",
       "\\end{alignat*}\n",
       " $$"
      ],
      "text/plain": [
       "Minimization problem with:\n",
       " * 8 linear constraints\n",
       " * 15 variables\n",
       "Solver is default solver"
      ]
     },
     "execution_count": 39,
     "metadata": {},
     "output_type": "execute_result"
    }
   ],
   "source": [
    "### exercise 2\n",
    "using JuMP\n",
    "m = 3\n",
    "n = 5\n",
    "# Supplies\n",
    "b = [200, 300, 350]\n",
    "# Demands\n",
    "d = [100, 300, 200, 100, 150]\n",
    "# Costs\n",
    "c = [10 30 40 40 60;\n",
    "     35 20 15 20 30;\n",
    "     45 10 10 15 15]\n",
    "\n",
    "model = Model()\n",
    "\n",
    "@variable(model, x[i=1:m,j = 1:n] >=0)\n",
    "\n",
    "for i = 1:m\n",
    "    @constraint(model, sum{x[i, j], j = 1:n} == b[i])\n",
    "end\n",
    "\n",
    "@constraint(model, demand[j = 1:n], sum{x[i, j], i = 1:m} == d[j])\n",
    "\n",
    "@objective(model, Min, sum{x[i, j] * c[i, j], i = 1:m, j = 1:n})\n",
    "\n",
    "model"
   ]
  },
  {
   "cell_type": "code",
   "execution_count": 68,
   "metadata": {
    "collapsed": false
   },
   "outputs": [
    {
     "data": {
      "text/latex": [
       "$$ \\begin{alignat*}{1}\\min\\quad & 2 x_{1,1} + 2 x_{1,2} + 7 x_{1,3} + 9 x_{1,4} + 21 x_{1,5} + 6 x_{2,1} + 2 x_{2,2} + 3 x_{2,3} + 5 x_{2,4} + 17 x_{2,5} + 8 x_{3,1} + 4 x_{3,2} + x_{3,3} + 3 x_{3,4} + 15 x_{3,5} + 9 x_{4,1} + 5 x_{4,2} + 2 x_{4,4} + 14 x_{4,5} + 11 x_{5,1} + 7 x_{5,2} + 2 x_{5,3} + 12 x_{5,5} + 14 x_{6,1} + 10 x_{6,2} + 5 x_{6,3} + 3 x_{6,4} + 9 x_{6,5} + 17 x_{7,1} + 13 x_{7,2} + 8 x_{7,3} + 6 x_{7,4} + 6 x_{7,5} + 19 x_{8,1} + 15 x_{8,2} + 10 x_{8,3} + 8 x_{8,4} + 4 x_{8,5}\\\\\n",
       "\\text{Subject to} \\quad & x_{1,1} - y_{1} \\leq 0\\\\\n",
       " & x_{1,2} - y_{2} \\leq 0\\\\\n",
       " & x_{1,3} - y_{3} \\leq 0\\\\\n",
       " & x_{1,4} - y_{4} \\leq 0\\\\\n",
       " & x_{1,5} - y_{5} \\leq 0\\\\\n",
       " & x_{2,1} - y_{1} \\leq 0\\\\\n",
       " & x_{2,2} - y_{2} \\leq 0\\\\\n",
       " & x_{2,3} - y_{3} \\leq 0\\\\\n",
       " & x_{2,4} - y_{4} \\leq 0\\\\\n",
       " & x_{2,5} - y_{5} \\leq 0\\\\\n",
       " & x_{3,1} - y_{1} \\leq 0\\\\\n",
       " & x_{3,2} - y_{2} \\leq 0\\\\\n",
       " & x_{3,3} - y_{3} \\leq 0\\\\\n",
       " & x_{3,4} - y_{4} \\leq 0\\\\\n",
       " & x_{3,5} - y_{5} \\leq 0\\\\\n",
       " & x_{4,1} - y_{1} \\leq 0\\\\\n",
       " & x_{4,2} - y_{2} \\leq 0\\\\\n",
       " & x_{4,3} - y_{3} \\leq 0\\\\\n",
       " & x_{4,4} - y_{4} \\leq 0\\\\\n",
       " & x_{4,5} - y_{5} \\leq 0\\\\\n",
       " & x_{5,1} - y_{1} \\leq 0\\\\\n",
       " & x_{5,2} - y_{2} \\leq 0\\\\\n",
       " & x_{5,3} - y_{3} \\leq 0\\\\\n",
       " & x_{5,4} - y_{4} \\leq 0\\\\\n",
       " & x_{5,5} - y_{5} \\leq 0\\\\\n",
       " & x_{6,1} - y_{1} \\leq 0\\\\\n",
       " & x_{6,2} - y_{2} \\leq 0\\\\\n",
       " & x_{6,3} - y_{3} \\leq 0\\\\\n",
       " & x_{6,4} - y_{4} \\leq 0\\\\\n",
       " & x_{6,5} - y_{5} \\leq 0\\\\\n",
       " & x_{7,1} - y_{1} \\leq 0\\\\\n",
       " & x_{7,2} - y_{2} \\leq 0\\\\\n",
       " & x_{7,3} - y_{3} \\leq 0\\\\\n",
       " & x_{7,4} - y_{4} \\leq 0\\\\\n",
       " & x_{7,5} - y_{5} \\leq 0\\\\\n",
       " & x_{8,1} - y_{1} \\leq 0\\\\\n",
       " & x_{8,2} - y_{2} \\leq 0\\\\\n",
       " & x_{8,3} - y_{3} \\leq 0\\\\\n",
       " & x_{8,4} - y_{4} \\leq 0\\\\\n",
       " & x_{8,5} - y_{5} \\leq 0\\\\\n",
       " & y_{1} + y_{2} + y_{3} + y_{4} + y_{5} \\leq 3\\\\\n",
       " & x_{1,1} + x_{1,2} + x_{1,3} + x_{1,4} + x_{1,5} = 1\\\\\n",
       " & x_{2,1} + x_{2,2} + x_{2,3} + x_{2,4} + x_{2,5} = 1\\\\\n",
       " & x_{3,1} + x_{3,2} + x_{3,3} + x_{3,4} + x_{3,5} = 1\\\\\n",
       " & x_{4,1} + x_{4,2} + x_{4,3} + x_{4,4} + x_{4,5} = 1\\\\\n",
       " & x_{5,1} + x_{5,2} + x_{5,3} + x_{5,4} + x_{5,5} = 1\\\\\n",
       " & x_{6,1} + x_{6,2} + x_{6,3} + x_{6,4} + x_{6,5} = 1\\\\\n",
       " & x_{7,1} + x_{7,2} + x_{7,3} + x_{7,4} + x_{7,5} = 1\\\\\n",
       " & x_{8,1} + x_{8,2} + x_{8,3} + x_{8,4} + x_{8,5} = 1\\\\\n",
       " & 0 \\leq x_{i,j} \\leq 1 \\quad\\forall i \\in \\{1,2,\\dots,7,8\\}, j \\in \\{1,2,\\dots,4,5\\}\\\\\n",
       " & y_{i} \\in \\{0,1\\} \\quad\\forall i \\in \\{1,2,\\dots,4,5\\}\\\\\n",
       "\\end{alignat*}\n",
       " $$"
      ],
      "text/plain": [
       "Minimization problem with:\n",
       " * 49 linear constraints\n",
       " * 45 variables: 5 binary\n",
       "Solver is default solver"
      ]
     },
     "execution_count": 68,
     "metadata": {},
     "output_type": "execute_result"
    }
   ],
   "source": [
    "### exercise 3\n",
    "customer_locs = [3; 7; 9; 10; 12; 15; 18; 20]\n",
    "facility_locs = [1; 5; 10; 12; 24]\n",
    "K = 3\n",
    "M = length(customer_locs)\n",
    "N = length(facility_locs)\n",
    "\n",
    "d = [abs(customer_locs[i]-facility_locs[j]) for i=1:M, j=1:N]\n",
    "m = Model()\n",
    "\n",
    "@variable(m, 0<=x[i = 1:M, j = 1:N]<=1)\n",
    "@variable(m, y[1:N],Bin)\n",
    "\n",
    "@objective(m,Min, sum{x[i, j]*d[i, j], i= 1:M, j = 1:N})\n",
    "\n",
    "@constraint(m, binary[i= 1:M, j = 1:N],x[i,j] <= y[j])\n",
    "@constraint(m, sum{y[j], j=1:N} <=K )\n",
    "@constraint(m, demand[i = 1:M],sum{x[i,j], j = 1:N}==1)\n",
    "m"
   ]
  },
  {
   "cell_type": "code",
   "execution_count": 91,
   "metadata": {
    "collapsed": false
   },
   "outputs": [
    {
     "name": "stdout",
     "output_type": "stream",
     "text": [
      "Optimize a model with 49 rows, 45 columns and 125 nonzeros\n",
      "Coefficient statistics:\n",
      "  Matrix range    [1e+00, 1e+00]\n",
      "  Objective range [1e+00, 2e+01]\n",
      "  Bounds range    [1e+00, 1e+00]\n",
      "  RHS range       [1e+00, 3e+00]\n",
      "Found heuristic solution: objective 72\n",
      "Presolve time: 0.00s\n",
      "Presolved: 49 rows, 45 columns, 125 nonzeros\n",
      "Variable types: 40 continuous, 5 integer (5 binary)\n",
      "\n",
      "Root relaxation: objective 2.200000e+01, 10 iterations, 0.00 seconds\n",
      "\n",
      "    Nodes    |    Current Node    |     Objective Bounds      |     Work\n",
      " Expl Unexpl |  Obj  Depth IntInf | Incumbent    BestBd   Gap | It/Node Time\n",
      "\n",
      "*    0     0               0      22.0000000   22.00000  0.00%     -    0s\n",
      "\n",
      "Explored 0 nodes (10 simplex iterations) in 0.00 seconds\n",
      "Thread count was 4 (of 4 available processors)\n",
      "\n",
      "Optimal solution found (tolerance 1.00e-04)\n",
      "Best objective 2.200000000000e+01, best bound 2.200000000000e+01, gap 0.0%\n"
     ]
    },
    {
     "data": {
      "text/plain": [
       "5-element Array{Float64,1}:\n",
       " -0.0\n",
       "  1.0\n",
       "  1.0\n",
       "  0.0\n",
       "  1.0"
      ]
     },
     "execution_count": 91,
     "metadata": {},
     "output_type": "execute_result"
    }
   ],
   "source": [
    "## another way of program exercise 3\n",
    "\n",
    "customer_locs = [3; 7; 9; 10; 12; 15; 18; 20]\n",
    "facility_locs = [1; 5; 10; 12; 24]\n",
    "K = 3\n",
    "M = length(customer_locs)\n",
    "N = length(facility_locs)\n",
    "\n",
    "d = [abs(customer_locs[i]-facility_locs[j]) for i=1:M, j=1:N]\n",
    "m = Model()\n",
    "\n",
    "@variable(m, 0<=x[i = 1:M, j = 1:N]<=1)\n",
    "@variable(m, y[1:N],Bin)\n",
    "\n",
    "@objective(m,Min, sum{x[i, j]*d[i, j], i= 1:M, j = 1:N})\n",
    "\n",
    "@constraint(m, binary[i= 1:M, j = 1:N],x[i,j] <= y[j])\n",
    "@constraint(m, sum{y[j], j=1:N} <=K )\n",
    "\n",
    "for i = 1:M\n",
    "    @constraint(m, sum{x[i,j], j = 1:N}==1)\n",
    "end\n",
    "m\n",
    "\n",
    "status = solve(m)\n",
    "status\n",
    "\n",
    "getvalue(x)\n",
    "getvalue(y)"
   ]
  },
  {
   "cell_type": "code",
   "execution_count": 92,
   "metadata": {
    "collapsed": false
   },
   "outputs": [
    {
     "ename": "LoadError",
     "evalue": "LoadError: Variable not owned by model present in a constraint\nwhile loading In[92], in expression starting on line 8",
     "output_type": "error",
     "traceback": [
      "LoadError: Variable not owned by model present in a constraint\nwhile loading In[92], in expression starting on line 8",
      "",
      " in prepConstrMatrix(::JuMP.Model) at /Users/lyynikki/.julia/v0.5/JuMP/src/solvers.jl:563",
      " in #build#93(::Bool, ::Bool, ::JuMP.ProblemTraits, ::Function, ::JuMP.Model) at /Users/lyynikki/.julia/v0.5/JuMP/src/solvers.jl:372",
      " in (::JuMP.#kw##build)(::Array{Any,1}, ::JuMP.#build, ::JuMP.Model) at ./<missing>:0",
      " in #solve#88(::Bool, ::Bool, ::Bool, ::Array{Any,1}, ::Function, ::JuMP.Model) at /Users/lyynikki/.julia/v0.5/JuMP/src/solvers.jl:134",
      " in solve(::JuMP.Model) at /Users/lyynikki/.julia/v0.5/JuMP/src/solvers.jl:116"
     ]
    }
   ],
   "source": [
    "ybar = getvalue(y)\n",
    "\n",
    "J1 = find(ybar .==1)\n",
    "J0 = find(ybar .==0)\n",
    "\n",
    "@constraint(model, sum{y[j], j in J1}+ sum{1- y[j], j in J0} <= N-1)\n",
    "\n",
    "solve(model)\n",
    "println(getobjectivevalue(model))\n",
    "getvalue(y)\n"
   ]
  },
  {
   "cell_type": "code",
   "execution_count": 93,
   "metadata": {
    "collapsed": false
   },
   "outputs": [
    {
     "name": "stdout",
     "output_type": "stream",
     "text": [
      "Optimize a model with 50 rows, 45 columns and 128 nonzeros\n",
      "Coefficient statistics:\n",
      "  Matrix range    [1e+00, 1e+00]\n",
      "  Objective range [1e+00, 2e+01]\n",
      "  Bounds range    [1e+00, 1e+00]\n",
      "  RHS range       [1e+00, 3e+00]\n",
      "Found heuristic solution: objective 62\n",
      "Presolve time: 0.00s\n",
      "Presolved: 50 rows, 45 columns, 128 nonzeros\n",
      "\n",
      "MIP start did not produce a new incumbent solution\n",
      "MIP start violates constraint R49 by 1.00\n",
      "\n",
      "Variable types: 40 continuous, 5 integer (5 binary)\n",
      "\n",
      "Root relaxation: objective 2.200000e+01, 10 iterations, 0.00 seconds\n",
      "\n",
      "    Nodes    |    Current Node    |     Objective Bounds      |     Work\n",
      " Expl Unexpl |  Obj  Depth IntInf | Incumbent    BestBd   Gap | It/Node Time\n",
      "\n",
      "*    0     0               0      22.0000000   22.00000  0.00%     -    0s\n",
      "\n",
      "Explored 0 nodes (10 simplex iterations) in 0.00 seconds\n",
      "Thread count was 4 (of 4 available processors)\n",
      "\n",
      "Optimal solution found (tolerance 1.00e-04)\n",
      "Best objective 2.200000000000e+01, best bound 2.200000000000e+01, gap 0.0%\n",
      "Optimize a model with 51 rows, 45 columns and 131 nonzeros\n",
      "Coefficient statistics:\n",
      "  Matrix range    [1e+00, 1e+00]\n",
      "  Objective range [1e+00, 2e+01]\n",
      "  Bounds range    [1e+00, 1e+00]\n",
      "  RHS range       [1e+00, 3e+00]\n",
      "Found heuristic solution: objective 64\n",
      "Presolve time: 0.00s\n",
      "Presolved: 51 rows, 45 columns, 131 nonzeros\n",
      "\n",
      "MIP start did not produce a new incumbent solution\n",
      "MIP start violates constraint R50 by 1.00\n",
      "\n",
      "Variable types: 40 continuous, 5 integer (5 binary)\n",
      "\n",
      "Root relaxation: objective 2.200000e+01, 11 iterations, 0.00 seconds\n",
      "\n",
      "    Nodes    |    Current Node    |     Objective Bounds      |     Work\n",
      " Expl Unexpl |  Obj  Depth IntInf | Incumbent    BestBd   Gap | It/Node Time\n",
      "\n",
      "*    0     0               0      22.0000000   22.00000  0.00%     -    0s\n",
      "\n",
      "Explored 0 nodes (11 simplex iterations) in 0.00 seconds\n",
      "Thread count was 4 (of 4 available processors)\n",
      "\n",
      "Optimal solution found (tolerance 1.00e-04)\n",
      "Best objective 2.200000000000e+01, best bound 2.200000000000e+01, gap 0.0%\n",
      "Optimize a model with 52 rows, 45 columns and 134 nonzeros\n",
      "Coefficient statistics:\n",
      "  Matrix range    [1e+00, 1e+00]\n",
      "  Objective range [1e+00, 2e+01]\n",
      "  Bounds range    [1e+00, 1e+00]\n",
      "  RHS range       [1e+00, 3e+00]\n",
      "Found heuristic solution: objective 64\n",
      "Presolve time: 0.00s\n",
      "Presolved: 52 rows, 45 columns, 134 nonzeros\n",
      "\n",
      "MIP start did not produce a new incumbent solution\n",
      "MIP start violates constraint R51 by 1.00\n",
      "\n",
      "Variable types: 40 continuous, 5 integer (5 binary)\n",
      "\n",
      "Root relaxation: objective 2.233333e+01, 13 iterations, 0.00 seconds\n",
      "\n",
      "    Nodes    |    Current Node    |     Objective Bounds      |     Work\n",
      " Expl Unexpl |  Obj  Depth IntInf | Incumbent    BestBd   Gap | It/Node Time\n",
      "\n",
      "     0     0   22.33333    0    5   64.00000   22.33333  65.1%     -    0s\n",
      "H    0     0                      30.0000000   22.33333  25.6%     -    0s\n",
      "H    0     0                      23.0000000   22.33333  2.90%     -    0s\n",
      "\n",
      "Cutting planes:\n",
      "  MIR: 1\n",
      "\n",
      "Explored 0 nodes (13 simplex iterations) in 0.00 seconds\n",
      "Thread count was 4 (of 4 available processors)\n",
      "\n",
      "Optimal solution found (tolerance 1.00e-04)\n",
      "Best objective 2.300000000000e+01, best bound 2.300000000000e+01, gap 0.0%\n"
     ]
    },
    {
     "data": {
      "text/plain": [
       "5-element Array{Float64,1}:\n",
       " 1.0\n",
       " 0.0\n",
       " 1.0\n",
       " 0.0\n",
       " 1.0"
      ]
     },
     "execution_count": 93,
     "metadata": {},
     "output_type": "execute_result"
    }
   ],
   "source": [
    "## add a code to exclude the best\n",
    "@constraint(m, y[2]+y[3]+y[5]<= 2)\n",
    "\n",
    "status2 = solve(m)\n",
    "getvalue(y)\n",
    "\n",
    "## add a line of code to exclude the second best\n",
    "@constraint(m, y[2]+y[4]+y[5]<= 2)\n",
    "\n",
    "status2 = solve(m)\n",
    "getvalue(y)\n",
    "\n",
    "## add a line of code to exclude the third best\n",
    "@constraint(m, y[2]+y[3]+y[4]<= 2)\n",
    "\n",
    "status2 = solve(m)\n",
    "getvalue(y)"
   ]
  },
  {
   "cell_type": "code",
   "execution_count": null,
   "metadata": {
    "collapsed": true
   },
   "outputs": [],
   "source": []
  }
 ],
 "metadata": {
  "anaconda-cloud": {},
  "kernelspec": {
   "display_name": "Julia 0.5.0",
   "language": "julia",
   "name": "julia-0.5"
  },
  "language_info": {
   "file_extension": ".jl",
   "mimetype": "application/julia",
   "name": "julia",
   "version": "0.5.0"
  }
 },
 "nbformat": 4,
 "nbformat_minor": 1
}
