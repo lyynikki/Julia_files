{
 "cells": [
  {
   "cell_type": "markdown",
   "metadata": {},
   "source": [
    "、# Newton Method"
   ]
  },
  {
   "cell_type": "code",
   "execution_count": 1,
   "metadata": {
    "collapsed": false
   },
   "outputs": [
    {
     "data": {
      "text/plain": [
       "newton (generic function with 1 method)"
      ]
     },
     "execution_count": 1,
     "metadata": {},
     "output_type": "execute_result"
    }
   ],
   "source": [
    "newton(f, f′, x) = x - f(x) / f′(x)"
   ]
  },
  {
   "cell_type": "code",
   "execution_count": 2,
   "metadata": {
    "collapsed": false
   },
   "outputs": [
    {
     "name": "stdout",
     "output_type": "stream",
     "text": [
      "1.5\n",
      "1.4166666666666667\n",
      "1.4142156862745099\n",
      "1.4142135623746899\n",
      "1.4142135623730951\n",
      "1.414213562373095\n",
      "1.4142135623730951\n",
      "1.414213562373095\n",
      "1.4142135623730951\n",
      "1.414213562373095\n"
     ]
    }
   ],
   "source": [
    "f(x) = x^2 - 2\n",
    "f′(x) = 2x\n",
    "\n",
    "x0 = 1.0\n",
    "x = x0\n",
    "\n",
    "for i in 1:10\n",
    "    x = newton(f, f′, x)\n",
    "    println(x)\n",
    "end"
   ]
  },
  {
   "cell_type": "code",
   "execution_count": 3,
   "metadata": {
    "collapsed": false
   },
   "outputs": [
    {
     "data": {
      "text/plain": [
       "f′ (generic function with 1 method)"
      ]
     },
     "execution_count": 3,
     "metadata": {},
     "output_type": "execute_result"
    }
   ],
   "source": [
    "f(x) = x^2 - 2\n",
    "f′(x) = 2x"
   ]
  },
  {
   "cell_type": "code",
   "execution_count": 5,
   "metadata": {
    "collapsed": false
   },
   "outputs": [
    {
     "data": {
      "text/plain": [
       "1.4142135623730951"
      ]
     },
     "execution_count": 5,
     "metadata": {},
     "output_type": "execute_result"
    }
   ],
   "source": [
    "sqrt(2)"
   ]
  },
  {
   "cell_type": "code",
   "execution_count": 9,
   "metadata": {
    "collapsed": false
   },
   "outputs": [
    {
     "data": {
      "text/plain": [
       "do_newton (generic function with 2 methods)"
      ]
     },
     "execution_count": 9,
     "metadata": {},
     "output_type": "execute_result"
    }
   ],
   "source": [
    "function do_newton(g, g′, x0, max_iterations=100)  # valeur par defaut\n",
    "    \n",
    "    x = x0\n",
    "\n",
    "    tolerance = 1e-15\n",
    "    iteration = 0\n",
    "\n",
    "    while ( abs(g(x) - 0) > tolerance \n",
    "        && iteration < max_iterations )\n",
    "        \n",
    "        x = newton(g, g′, x)\n",
    "        \n",
    "        iteration += 1\n",
    "        \n",
    "#         if iteration == max_iterations\n",
    "#             break\n",
    "#         end\n",
    "    end\n",
    "    \n",
    "    return x , g(x)\n",
    "end"
   ]
  },
  {
   "cell_type": "code",
   "execution_count": 10,
   "metadata": {
    "collapsed": false
   },
   "outputs": [],
   "source": [
    "x, y = do_newton(f, f′, 100);"
   ]
  },
  {
   "cell_type": "code",
   "execution_count": 11,
   "metadata": {
    "collapsed": false
   },
   "outputs": [
    {
     "data": {
      "text/plain": [
       "1.4142135623730951"
      ]
     },
     "execution_count": 11,
     "metadata": {},
     "output_type": "execute_result"
    }
   ],
   "source": [
    "x"
   ]
  },
  {
   "cell_type": "code",
   "execution_count": 12,
   "metadata": {
    "collapsed": false
   },
   "outputs": [
    {
     "data": {
      "text/plain": [
       "4.440892098500626e-16"
      ]
     },
     "execution_count": 12,
     "metadata": {},
     "output_type": "execute_result"
    }
   ],
   "source": [
    "y"
   ]
  },
  {
   "cell_type": "code",
   "execution_count": 13,
   "metadata": {
    "collapsed": false
   },
   "outputs": [
    {
     "data": {
      "text/plain": [
       "(-0.5 + 0.8660254037844386im,-2.220446049250313e-16 + 1.1102230246251565e-16im)"
      ]
     },
     "execution_count": 13,
     "metadata": {},
     "output_type": "execute_result"
    }
   ],
   "source": [
    "h(z) = z^3 - 1\n",
    "h′(z) = 3z^2\n",
    "\n",
    "do_newton(h, h′, 0.5+7im)"
   ]
  },
  {
   "cell_type": "markdown",
   "metadata": {},
   "source": [
    "# Airline Network Revenue Management\n",
    "\n",
    "<img style=\"max-width:100%; width:500px; height:auto\" src=\"http://i.imgur.com/jeGwWET.png\">\n",
    "\n",
    "In the airline network revenue management problem we are trying to decide how many tickets for each origin-destination (O-D) pair to sell at each price level. The goal is to maximize revenue, and we cannot sell more tickets than there is demand for, or space on the planes for.\n",
    "\n",
    "## Three Flight Problem\n",
    "\n",
    "We'll start with a toy problem that has three origin-destination pairs, with two price classes for each pair. The three origin-destination pairs are BOS-MDW, MDW-SFO, or BOS-SFO via MDW. BOS stands for Boston, MDW is Chicago-Midway, and SFO is San Francisco. Each O-D pair has a \"regular\" and \"discount\" fare class. The data we will use is summarized as follows:\n",
    "\n",
    "```\n",
    "PLANE CAPACITY: 166\n",
    "\n",
    "BOS-MDW\n",
    "        Regular  Discount\n",
    "Price:  428      190\n",
    "Demand: 80       120\n",
    "\n",
    "BOS-SFO\n",
    "        Regular  Discount\n",
    "Price:  642      224\n",
    "Demand: 75       100\n",
    "\n",
    "MDW-SFO\n",
    "        Regular  Discount\n",
    "Price:  512      190\n",
    "Demand: 60       110\n",
    "```"
   ]
  },
  {
   "cell_type": "code",
   "execution_count": 17,
   "metadata": {
    "collapsed": true
   },
   "outputs": [],
   "source": [
    "# First we need to load the JuMP package\n",
    "using JuMP"
   ]
  },
  {
   "cell_type": "markdown",
   "metadata": {},
   "source": [
    "### Model\n",
    "Now we need to create a `Model`. A `Model` is an object that has associated variables and constraints. We can also pick and customize different solvers to use with the model. In this case we'll assume you a LP solver installed - JuMP will detect it and use it automatically."
   ]
  },
  {
   "cell_type": "code",
   "execution_count": 18,
   "metadata": {
    "collapsed": false
   },
   "outputs": [
    {
     "data": {
      "text/latex": [
       "$$ \\begin{alignat*}{1}\\min\\quad & 0\\\\\n",
       "\\text{Subject to} \\quad\\end{alignat*}\n",
       " $$"
      ],
      "text/plain": [
       "Feasibility problem with:\n",
       " * 0 linear constraints\n",
       " * 0 variables\n",
       "Solver is default solver"
      ]
     },
     "execution_count": 18,
     "metadata": {},
     "output_type": "execute_result"
    }
   ],
   "source": [
    "nrm = Model()"
   ]
  },
  {
   "cell_type": "markdown",
   "metadata": {},
   "source": [
    "We can see that JuMP displays the model in a human-readable form.\n",
    "\n",
    "### Variables\n",
    "Now we can create our variables, in the optimization sense. Variables have a name, bounds, and type. For this problem, we need six continuous variables, each with a lower and upper bound on their value.\n",
    "\n",
    "Here we will spell out each variable one-by-one - rest assured that later we will do something smarter that will scale to millions of variables!"
   ]
  },
  {
   "cell_type": "code",
   "execution_count": 20,
   "metadata": {
    "collapsed": false
   },
   "outputs": [
    {
     "data": {
      "text/latex": [
       "$$ \\begin{alignat*}{1}\\min\\quad & 0\\\\\n",
       "\\text{Subject to} \\quad & 0 \\leq BOStoMDW_R \\leq 80\\\\\n",
       " & 0 \\leq BOStoMDW_D \\leq 120\\\\\n",
       " & 0 \\leq BOStoSFO_R \\leq 75\\\\\n",
       " & 0 \\leq BOStoSFO_D \\leq 100\\\\\n",
       " & 0 \\leq MDWtoSFO_R \\leq 60\\\\\n",
       " & 0 \\leq MDWtoSFO_D \\leq 110\\\\\n",
       "\\end{alignat*}\n",
       " $$"
      ],
      "text/plain": [
       "Feasibility problem with:\n",
       " * 0 linear constraints\n",
       " * 6 variables\n",
       "Solver is default solver"
      ]
     },
     "execution_count": 20,
     "metadata": {},
     "output_type": "execute_result"
    }
   ],
   "source": [
    "@variables(nrm, begin \n",
    "    0 <= BOStoMDW_R <= 80\n",
    "    0 <= BOStoMDW_D <= 120\n",
    "    0 <= BOStoSFO_R <= 75\n",
    "    0 <= BOStoSFO_D <= 100\n",
    "    0 <= MDWtoSFO_R <= 60\n",
    "    0 <= MDWtoSFO_D <= 110\n",
    "end)\n",
    "nrm"
   ]
  },
  {
   "cell_type": "markdown",
   "metadata": {},
   "source": [
    "Great, now we are getting somewhere!\n",
    "\n",
    "### Objective\n",
    "The objective is to maximize the revenue. We set the objective with `@objective`, which takes three arguments: the model, the sense (`Max` or `Min`), and the expression."
   ]
  },
  {
   "cell_type": "code",
   "execution_count": 21,
   "metadata": {
    "collapsed": false,
    "scrolled": true
   },
   "outputs": [
    {
     "data": {
      "text/latex": [
       "$$ \\begin{alignat*}{1}\\max\\quad & 428 BOStoMDW_R + 190 BOStoMDW_D + 642 BOStoSFO_R + 224 BOStoSFO_D + 512 MDWtoSFO_R + 190 MDWtoSFO_D\\\\\n",
       "\\text{Subject to} \\quad & 0 \\leq BOStoMDW_R \\leq 80\\\\\n",
       " & 0 \\leq BOStoMDW_D \\leq 120\\\\\n",
       " & 0 \\leq BOStoSFO_R \\leq 75\\\\\n",
       " & 0 \\leq BOStoSFO_D \\leq 100\\\\\n",
       " & 0 \\leq MDWtoSFO_R \\leq 60\\\\\n",
       " & 0 \\leq MDWtoSFO_D \\leq 110\\\\\n",
       "\\end{alignat*}\n",
       " $$"
      ],
      "text/plain": [
       "Maximization problem with:\n",
       " * 0 linear constraints\n",
       " * 6 variables\n",
       "Solver is default solver"
      ]
     },
     "execution_count": 21,
     "metadata": {},
     "output_type": "execute_result"
    }
   ],
   "source": [
    "@objective(nrm, Max, 428*BOStoMDW_R + 190*BOStoMDW_D +\n",
    "                        642*BOStoSFO_R + 224*BOStoSFO_D +\n",
    "                        512*MDWtoSFO_R + 190*MDWtoSFO_D)\n",
    "nrm"
   ]
  },
  {
   "cell_type": "markdown",
   "metadata": {},
   "source": [
    "### Constraints\n",
    "We have only two constraints, one per physical flight: that the number of people on each flight is less than the capacity of the planes. \n",
    "\n",
    "We add constraints with `@constraint`, which takes two arguments: the model, and an expression with an inequality in it: `<=`, `==`, `>=`.\n",
    "\n",
    "(note that there are other forms of `@constraint` that can be useful sometimes - see the manual or other examples for details)"
   ]
  },
  {
   "cell_type": "code",
   "execution_count": 22,
   "metadata": {
    "collapsed": false
   },
   "outputs": [
    {
     "data": {
      "text/latex": [
       "$$ \\begin{alignat*}{1}\\max\\quad & 428 BOStoMDW_R + 190 BOStoMDW_D + 642 BOStoSFO_R + 224 BOStoSFO_D + 512 MDWtoSFO_R + 190 MDWtoSFO_D\\\\\n",
       "\\text{Subject to} \\quad & BOStoMDW_R + BOStoMDW_D + BOStoSFO_R + BOStoSFO_D \\leq 166\\\\\n",
       " & MDWtoSFO_R + MDWtoSFO_D + BOStoSFO_R + BOStoSFO_D \\leq 166\\\\\n",
       " & 0 \\leq BOStoMDW_R \\leq 80\\\\\n",
       " & 0 \\leq BOStoMDW_D \\leq 120\\\\\n",
       " & 0 \\leq BOStoSFO_R \\leq 75\\\\\n",
       " & 0 \\leq BOStoSFO_D \\leq 100\\\\\n",
       " & 0 \\leq MDWtoSFO_R \\leq 60\\\\\n",
       " & 0 \\leq MDWtoSFO_D \\leq 110\\\\\n",
       "\\end{alignat*}\n",
       " $$"
      ],
      "text/plain": [
       "Maximization problem with:\n",
       " * 2 linear constraints\n",
       " * 6 variables\n",
       "Solver is default solver"
      ]
     },
     "execution_count": 22,
     "metadata": {},
     "output_type": "execute_result"
    }
   ],
   "source": [
    "@constraint(nrm, BOStoMDW_R + BOStoMDW_D + \n",
    "                    BOStoSFO_R + BOStoSFO_D <= 166)\n",
    "@constraint(nrm, MDWtoSFO_R + MDWtoSFO_D + \n",
    "                    BOStoSFO_R + BOStoSFO_D <= 166)\n",
    "nrm"
   ]
  },
  {
   "cell_type": "markdown",
   "metadata": {},
   "source": [
    "Our model is complete!\n",
    "\n",
    "## Solve\n",
    "The easy part! Lets check out the finished model before solving it. We didn't specify a solver before, but JuMP knows we have an LP solver installed, so it will use that."
   ]
  },
  {
   "cell_type": "code",
   "execution_count": 23,
   "metadata": {
    "collapsed": false
   },
   "outputs": [
    {
     "data": {
      "text/plain": [
       ":Optimal"
      ]
     },
     "execution_count": 23,
     "metadata": {},
     "output_type": "execute_result"
    }
   ],
   "source": [
    "status = solve(nrm)\n",
    "status  # Should be `:Optimal`"
   ]
  },
  {
   "cell_type": "markdown",
   "metadata": {},
   "source": [
    "## Inspect the solution\n",
    "We can use `getvalue()` to inspect the value of solutions"
   ]
  },
  {
   "cell_type": "code",
   "execution_count": 24,
   "metadata": {
    "collapsed": false
   },
   "outputs": [
    {
     "data": {
      "text/plain": [
       "80.0"
      ]
     },
     "execution_count": 24,
     "metadata": {},
     "output_type": "execute_result"
    }
   ],
   "source": [
    "getvalue(BOStoMDW_R)"
   ]
  },
  {
   "cell_type": "code",
   "execution_count": 25,
   "metadata": {
    "collapsed": false
   },
   "outputs": [
    {
     "data": {
      "text/plain": [
       "11.0"
      ]
     },
     "execution_count": 25,
     "metadata": {},
     "output_type": "execute_result"
    }
   ],
   "source": [
    "getvalue(BOStoMDW_D)"
   ]
  },
  {
   "cell_type": "code",
   "execution_count": 26,
   "metadata": {
    "collapsed": false
   },
   "outputs": [
    {
     "data": {
      "text/plain": [
       "121090.0"
      ]
     },
     "execution_count": 26,
     "metadata": {},
     "output_type": "execute_result"
    }
   ],
   "source": [
    "getobjectivevalue(nrm)"
   ]
  },
  {
   "cell_type": "code",
   "execution_count": null,
   "metadata": {
    "collapsed": true
   },
   "outputs": [],
   "source": [
    "getvalue(BOStoMDW_R)"
   ]
  }
 ],
 "metadata": {
  "anaconda-cloud": {},
  "kernelspec": {
   "display_name": "Julia 0.4.6",
   "language": "julia",
   "name": "julia-0.4"
  },
  "language_info": {
   "file_extension": ".jl",
   "mimetype": "application/julia",
   "name": "julia",
   "version": "0.4.6"
  }
 },
 "nbformat": 4,
 "nbformat_minor": 1
}
