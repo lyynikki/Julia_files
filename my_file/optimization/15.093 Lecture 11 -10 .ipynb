{
 "cells": [
  {
   "cell_type": "code",
   "execution_count": 4,
   "metadata": {
    "collapsed": false
   },
   "outputs": [
    {
     "name": "stderr",
     "output_type": "stream",
     "text": [
      "INFO: Nothing to be done\n",
      "INFO: METADATA is out-of-date — you may not have the latest version of Interact\n",
      "INFO: Use `Pkg.update()` to get the latest versions of your packages\n",
      "INFO: Cloning cache of PlotUtils from https://github.com/JuliaPlots/PlotUtils.jl.git\n",
      "INFO: Cloning cache of Plots from https://github.com/tbreloff/Plots.jl.git\n",
      "INFO: Cloning cache of RecipesBase from https://github.com/JuliaPlots/RecipesBase.jl.git\n",
      "INFO: Upgrading Conda: v0.3.2 => v0.4.0\n",
      "INFO: Installing PlotUtils v0.1.1\n",
      "INFO: Installing Plots v0.9.4\n",
      "INFO: Installing RecipesBase v0.1.0\n",
      "INFO: Building Conda\n",
      "INFO: Building Plots\n",
      "INFO: Cannot find deps/plotly-latest.min.js... downloading latest version.\n",
      "  % Total    % Received % Xferd  Average Speed   Time    Time     Time  Current\n",
      "                                 Dload  Upload   Total   Spent    Left  Speed\n",
      "100 1767k  100 1767k    0     0  1310k      0  0:00:01  0:00:01 --:--:-- 1311k\n",
      "INFO: Package database updated\n",
      "INFO: METADATA is out-of-date — you may not have the latest version of Plots\n",
      "INFO: Use `Pkg.update()` to get the latest versions of your packages\n",
      "INFO: Precompiling module Plots.\n"
     ]
    },
    {
     "name": "stdout",
     "output_type": "stream",
     "text": [
      "Pkg.add(\"GR\")\n",
      "Pkg.build(\"GR\")\n",
      "\n",
      "\n"
     ]
    },
    {
     "name": "stderr",
     "output_type": "stream",
     "text": [
      "WARNING: Couldn't initialize gr.  (might need to install it?)\n",
      "INFO: To do a standard install of gr, copy and run this:\n",
      "\n"
     ]
    },
    {
     "ename": "LoadError",
     "evalue": "LoadError: ArgumentError: Module GR not found in current path.\nRun `Pkg.add(\"GR\")` to install the GR package.\nwhile loading In[4], in expression starting on line 7",
     "output_type": "error",
     "traceback": [
      "LoadError: ArgumentError: Module GR not found in current path.\nRun `Pkg.add(\"GR\")` to install the GR package.\nwhile loading In[4], in expression starting on line 7",
      ""
     ]
    }
   ],
   "source": [
    "Pkg.add(\"Interact\")\n",
    "Pkg.add(\"Plots\")\n",
    "\n",
    "using JuMP # used for mathematical programming\n",
    "using Interact # used for enabling the slider\n",
    "using Plots # used for plotting \n",
    "gr();\n"
   ]
  },
  {
   "cell_type": "code",
   "execution_count": null,
   "metadata": {
    "collapsed": true
   },
   "outputs": [],
   "source": [
    "In [2]:\n",
    "# Define some input data about the test system\n",
    "# Maximum power output of generators\n",
    "const g_max = [1000,1000];\n",
    "# Minimum power output of generators\n",
    "const g_min = [0,300];\n",
    "# Incremental cost of generators \n",
    "const c_g = [50,100];\n",
    "# Fixed cost of generators\n",
    "const c_g0 = [1000,0]\n",
    "# Incremental cost of wind generators\n",
    "const c_w = 50;\n",
    "# Total demand\n",
    "const d = 1500;\n",
    "# Wind forecast\n",
    "const w_f = 200;"
   ]
  },
  {
   "cell_type": "code",
   "execution_count": 5,
   "metadata": {
    "collapsed": false
   },
   "outputs": [
    {
     "ename": "LoadError",
     "evalue": "LoadError: UndefVarError: g_max not defined\nwhile loading In[5], in expression starting on line 24",
     "output_type": "error",
     "traceback": [
      "LoadError: UndefVarError: g_max not defined\nwhile loading In[5], in expression starting on line 24",
      ""
     ]
    }
   ],
   "source": [
    "# In this cell we create  function solve_ed, which solves the economic dispatch problem for a given set of input parameters.\n",
    "function solve_ed(g_max, g_min, c_g, c_w, d, w_f)\n",
    "    #Define the economic dispatch (ED) model\n",
    "    ed=Model() \n",
    "    \n",
    "    # Define decision variables    \n",
    "    @variable(ed, g_min[i] <= g[i=1:2] <= g_max[i]) # power output of generators\n",
    "    @variable(ed, 0 <= w  <= w_f ) # wind power injection\n",
    "\n",
    "    # Define the objective function\n",
    "    @objective(ed,Min,sum(c_g[i] * g[i] for i=1:2)+ c_w * w)\n",
    "\n",
    "    # Define the power balance constraint\n",
    "    @constraint(ed, sum(g[i] for i=1:2) + w == d)\n",
    "\n",
    "    # Solve statement\n",
    "    solve(ed)\n",
    "    \n",
    "    # return the optimal value of the objective function and its minimizers\n",
    "    return getvalue(g), getvalue(w), w_f-getvalue(w), getobjectivevalue(ed)\n",
    "end\n",
    "\n",
    "# Solve the economic dispatch problem\n",
    "(g_opt,w_opt,ws_opt,obj)=solve_ed(g_max, g_min, c_g, c_w, d, w_f);\n",
    "\n",
    "println(\"\\n\")\n",
    "println(\"Dispatch of Generators: \", g_opt, \" MW\")\n",
    "println(\"Dispatch of Wind: \", w_opt, \" MW\")\n",
    "println(\"Wind spillage: \", w_f-w_opt, \" MW\") \n",
    "println(\"\\n\")\n",
    "println(\"Total cost: \", obj, \"\\$\")"
   ]
  },
  {
   "cell_type": "code",
   "execution_count": 6,
   "metadata": {
    "collapsed": false
   },
   "outputs": [
    {
     "data": {
      "text/html": [],
      "text/plain": [
       "Interact.Slider{Float64}(Signal{Float64}(1.75, nactions=0),\"c_g1_scale\",1.75,0.5:0.01:3.0,\".3f\",true)"
      ]
     },
     "metadata": {},
     "output_type": "display_data"
    },
    {
     "ename": "LoadError",
     "evalue": "LoadError: UndefVarError: c_g not defined\nwhile loading In[6], in expression starting on line 4",
     "output_type": "error",
     "traceback": [
      "LoadError: UndefVarError: c_g not defined\nwhile loading In[6], in expression starting on line 4",
      "",
      " in (::##14#15)(::Float64) at ./In[6]:5",
      " in (::Base.#kw##map)(::Array{Any,1}, ::Base.#map, ::Function, ::Reactive.Signal{Float64}) at ./<missing>:0"
     ]
    }
   ],
   "source": [
    "# This cell uses the package Interact defined above. \n",
    "# In this cell we create a manipulator that solves the economic dispatch problem for different values of c_g1_scale.\n",
    "\n",
    "@manipulate for c_g1_scale = 0.5:0.01:3.0\n",
    "    c_g_scale = [c_g[1]*c_g1_scale, c_g[2]] # update the incremental cost of the first generator at every iteration\n",
    "    g_opt,w_opt,ws_opt,obj = solve_ed(g_max, g_min, c_g_scale, c_w, d, w_f) # solve the ed problem with the updated incremental cost\n",
    "    HTML(\"Dispatch of Generators, MW: $(g_opt[:])<br>\"*\n",
    "    \"Dispatch of Wind, MW: $w_opt<br>\"*\n",
    "    \"Spillage of Wind, MW: $ws_opt<br>\"*\n",
    "    \"Total cost, \\$: $obj\")\n",
    "end"
   ]
  },
  {
   "cell_type": "code",
   "execution_count": 7,
   "metadata": {
    "collapsed": false
   },
   "outputs": [
    {
     "data": {
      "text/html": [],
      "text/plain": [
       "Interact.Slider{Float64}(Signal{Float64}(2.2, nactions=0),\"c_w_scale\",2.2,1.0:0.1:3.5,\".3f\",true)"
      ]
     },
     "metadata": {},
     "output_type": "display_data"
    },
    {
     "ename": "LoadError",
     "evalue": "LoadError: UndefVarError: c_g not defined\nwhile loading In[7], in expression starting on line 1",
     "output_type": "error",
     "traceback": [
      "LoadError: UndefVarError: c_g not defined\nwhile loading In[7], in expression starting on line 1",
      "",
      " in (::##16#17)(::Float64) at ./In[7]:9",
      " in (::Base.#kw##map)(::Array{Any,1}, ::Base.#map, ::Function, ::Reactive.Signal{Float64}) at ./<missing>:0"
     ]
    }
   ],
   "source": [
    "@manipulate for c_w_scale = 1:0.1:3.5\n",
    "    # Define the vectors of outputs\n",
    "    obj_out = Float64[] \n",
    "    w_out = Float64[]\n",
    "    g1_out = Float64[]\n",
    "    g2_out = Float64[]\n",
    "    \n",
    "    for c_g1_scale = 0.5:0.01:3.0\n",
    "        c_g_scale = [c_g[1]*c_g1_scale  c_g[2]] # update the incremental cost of the first generator at every iteration\n",
    "        g_opt,w_opt,ws_opt,obj = solve_ed(g_max, g_min, c_g_scale, c_w_scale*c_w, d, w_f) # solve the ed problem with the updated incremental cost\n",
    "        # Add the solution of the economic dispatch problem to the respective vectors\n",
    "        push!(obj_out,obj)\n",
    "        push!(w_out,w_opt)\n",
    "        push!(g1_out,g_opt[1])\n",
    "        push!(g2_out,g_opt[2])\n",
    "    end\n",
    "    \n",
    "    # Plot the outputs\n",
    "    \n",
    "    # Plot the total cost\n",
    "    p1 = plot(0.5:0.01:3.0,obj_out, xlabel=\"c_g1_scale\", ylabel=\"Total cost, \\$\", ylims=(50000,200000),legend=nothing)\n",
    "    # Plot the power output of Generator 1\n",
    "    p2 = plot(0.5:0.01:3.0,g1_out, xlabel=\"c_g1_scale\", ylabel=\"Dispatch of G1, MW\", ylims=(0,1100),legend=nothing)\n",
    "    # Plot the power output of Generator 2\n",
    "    p3 = plot(0.5:0.01:3.0,g2_out, xlabel=\"c_g1_scale\", ylabel=\"Dispatch of G2, MW\", ylims=(0,1600),legend=nothing)\n",
    "    # Plot the wind power output\n",
    "    p4 = plot(0.5:0.01:3.0,w_out, xlabel=\"c_g1_scale\", ylabel=\"Dispatch of Wind, MW\", ylims=(-5,250),legend=nothing)\n",
    "    plot(p1,p2,p3,p4)\n",
    "end"
   ]
  },
  {
   "cell_type": "code",
   "execution_count": 8,
   "metadata": {
    "collapsed": false
   },
   "outputs": [
    {
     "data": {
      "text/html": [],
      "text/plain": [
       "Interact.Slider{Float64}(Signal{Float64}(0.85, nactions=0),\"demandscale\",0.85,0.2:0.01:1.5,\".3f\",true)"
      ]
     },
     "metadata": {},
     "output_type": "display_data"
    },
    {
     "ename": "LoadError",
     "evalue": "LoadError: UndefVarError: g_max not defined\nwhile loading In[8], in expression starting on line 1",
     "output_type": "error",
     "traceback": [
      "LoadError: UndefVarError: g_max not defined\nwhile loading In[8], in expression starting on line 1",
      "",
      " in (::##18#19)(::Float64) at ./In[8]:2",
      " in (::Base.#kw##map)(::Array{Any,1}, ::Base.#map, ::Function, ::Reactive.Signal{Float64}) at ./<missing>:0"
     ]
    }
   ],
   "source": [
    "@manipulate for demandscale = 0.2:0.01:1.5\n",
    "    g_opt,w_opt,ws_opt,obj = solve_ed(g_max, g_min, c_g, c_w, demandscale*d, w_f)\n",
    "    \n",
    "    HTML(\"Dispatch of Generators, MW: $(g_opt[:])<br>\"*\n",
    "    \"Dispatch of Wind, MW: $w_opt<br>\"*\n",
    "    \"Spillage of Wind, MW: $ws_opt<br>\"*\n",
    "    \"Total cost, \\$: $obj\")\n",
    "end"
   ]
  },
  {
   "cell_type": "code",
   "execution_count": null,
   "metadata": {
    "collapsed": true
   },
   "outputs": [],
   "source": [
    "# In this cell we introduce binary decision u to the economic dispatch problem (function solve_ed)\n",
    "function solve_uc(g_max, g_min, c_g, c_w, d, w_f)\n",
    "    #Define the unit commitment (UC) model\n",
    "    uc=Model() \n",
    "    \n",
    "    # Define decision variables    \n",
    "    @variable(uc, 0 <= g[i=1:2] <= g_max[i]) # power output of generators\n",
    "    @variable(uc, u[i=1:2], Bin) # Binary status of generators\n",
    "    @variable(uc, 0 <= w  <= w_f ) # wind power injection\n",
    "\n",
    "    # Define the objective function\n",
    "    @objective(uc,Min,sum(c_g[i] * g[i] for i=1:2)+ c_w * w)\n",
    "\n",
    "    # Define the constraint on the maximum and minimum power output of each generator\n",
    "    for i in 1:2\n",
    "        @constraint(uc,  g[i] <= g_max[i] * u[i]) #maximum\n",
    "        @constraint(uc,  g[i] >= g_min[i] * u[i]) #minimum\n",
    "    end\n",
    "\n",
    "    # Define the power balance constraint\n",
    "    @constraint(uc, sum(g[i] for i=1:2) + w == d)\n",
    "\n",
    "    # Solve statement\n",
    "    status = solve(uc)\n",
    "    \n",
    "    return status, getvalue(g), getvalue(w), w_f-getvalue(w), getvalue(u), getobjectivevalue(uc)\n",
    "end\n",
    "\n",
    "# Solve the economic dispatch problem\n",
    "status,g_opt,w_opt,ws_opt,u_opt,obj=solve_uc(g_max, g_min, c_g, c_w, d, w_f);\n",
    "\n",
    "  \n",
    "println(\"\\n\")\n",
    "println(\"Dispatch of Generators: \", g_opt, \" MW\")\n",
    "println(\"Commitments of Generators: \", u_opt)\n",
    "println(\"Dispatch of Wind: \", w_opt, \" MW\")\n",
    "println(\"Wind spillage: \", w_f-w_opt, \" MW\") \n",
    "println(\"\\n\")\n",
    "println(\"Total cost: \", obj, \"\\$\")"
   ]
  },
  {
   "cell_type": "code",
   "execution_count": null,
   "metadata": {
    "collapsed": true
   },
   "outputs": [],
   "source": [
    "@manipulate for demandscale = 0.2:0.01:1.5\n",
    "    status, g_opt,w_opt,ws_opt, u_opt, obj = solve_uc(g_max, g_min, c_g, c_w, demandscale*d, w_f)\n",
    " \n",
    "    if status == :Optimal\n",
    "        HTML(\"Commitment of Generators, MW: $(u_opt[:])<br>\"*\n",
    "    \"Dispatch of Generators, MW: $(g_opt[:])<br>\"*\n",
    "    \"Dispatch of Wind, MW: $w_opt<br>\"*\n",
    "    \"Spillage of Wind, MW: $ws_opt<br>\"*\n",
    "    \"Total cost, \\$: $obj\")\n",
    "    else\n",
    "        HTML(\"Status: $status\")\n",
    "    end\n",
    "end"
   ]
  },
  {
   "cell_type": "code",
   "execution_count": 9,
   "metadata": {
    "collapsed": false
   },
   "outputs": [
    {
     "data": {
      "text/html": [],
      "text/plain": [
       "Interact.Slider{Float64}(Signal{Float64}(0.8, nactions=0),\"demandscale\",0.8,0.2:0.05:1.45,\".3f\",true)"
      ]
     },
     "metadata": {},
     "output_type": "display_data"
    },
    {
     "ename": "LoadError",
     "evalue": "LoadError: UndefVarError: solve_uc not defined\nwhile loading In[9], in expression starting on line 1",
     "output_type": "error",
     "traceback": [
      "LoadError: UndefVarError: solve_uc not defined\nwhile loading In[9], in expression starting on line 1",
      "",
      " in (::##20#21)(::Float64) at ./In[9]:7",
      " in (::Base.#kw##map)(::Array{Any,1}, ::Base.#map, ::Function, ::Reactive.Signal{Float64}) at ./<missing>:0"
     ]
    }
   ],
   "source": [
    "@manipulate for demandscale = 0.2:0.05:1.45\n",
    "    w_out = Float64[]\n",
    "    g1_out = Float64[]\n",
    "    g2_out = Float64[]\n",
    "    \n",
    "    for w_f_scale = 0.5:0.05:5\n",
    "        status, g_opt,w_opt,ws_opt, u_opt, obj = solve_uc(g_max, g_min, c_g, c_w, demandscale*d, w_f*w_f_scale)\n",
    "        push!(g1_out,g_opt[1])\n",
    "        push!(g2_out,g_opt[2])\n",
    "        push!(w_out,w_opt)\n",
    "    end\n",
    "    \n",
    "    # Plot the power output of Generator 1\n",
    "    p1 = plot(0.5:0.05:2,g1_out, xlabel=\"w_f_scale\", ylabel=\"Dispatch of G1, MW\", ylims=(-10,1000),legend=nothing)\n",
    "    # Plot the power output of Generator 2  \n",
    "    p2 = plot(0.5:0.05:2,g2_out, xlabel=\"w_f_scale\", ylabel=\"Dispatch of G2, MW\", ylims=(-10,1000),legend=nothing)\n",
    "    # Plot the wind power output\n",
    "    p3 = plot(0.5:0.05:2,w_out, xlabel=\"w_f_scale\", ylabel=\"Dispatch of Wind, MW\",ylims=(-10,500),legend=nothing)\n",
    "    plot(p1,p2,p3)\n",
    "end"
   ]
  },
  {
   "cell_type": "code",
   "execution_count": 10,
   "metadata": {
    "collapsed": false
   },
   "outputs": [
    {
     "ename": "LoadError",
     "evalue": "LoadError: UndefVarError: g_max not defined\nwhile loading In[10], in expression starting on line 1",
     "output_type": "error",
     "traceback": [
      "LoadError: UndefVarError: g_max not defined\nwhile loading In[10], in expression starting on line 1",
      ""
     ]
    }
   ],
   "source": [
    "g_max[2] = 1500\n",
    "# Generator map (card(I) x card(b))\n",
    "g_map = [0 1 0; 0 0 1];\n",
    "# Generator map (card(I) x card(b))\n",
    "w_map = [1 0 0; 0 1 0];\n",
    "# Line map (card(L) x card(B))\n",
    "f_map = [1 -1 0; 0 1 -1];\n",
    "# the physical line start at the first node or something...\n",
    "# Power flow limits (card(L))\n",
    "f_max = [100,1000];\n",
    "# Line impedance \n",
    "x = [0.001,0.001];\n",
    "# Wind forecast (card(V))\n",
    "w_f_vec = [150,50];\n",
    "# Total demand (card(B))\n",
    "d_vec = [0,0,1500];"
   ]
  },
  {
   "cell_type": "code",
   "execution_count": 11,
   "metadata": {
    "collapsed": false
   },
   "outputs": [
    {
     "ename": "LoadError",
     "evalue": "LoadError: ArgumentError: Module GraphViz not found in current path.\nRun `Pkg.add(\"GraphViz\")` to install the GraphViz package.\nwhile loading In[11], in expression starting on line 1",
     "output_type": "error",
     "traceback": [
      "LoadError: ArgumentError: Module GraphViz not found in current path.\nRun `Pkg.add(\"GraphViz\")` to install the GraphViz package.\nwhile loading In[11], in expression starting on line 1",
      "",
      " in require(::Symbol) at ./loading.jl:365",
      " in require(::Symbol) at /Applications/Julia-0.5.app/Contents/Resources/julia/lib/julia/sys.dylib:?"
     ]
    }
   ],
   "source": [
    "using GraphViz # Linux and OS X only"
   ]
  },
  {
   "cell_type": "code",
   "execution_count": 12,
   "metadata": {
    "collapsed": false
   },
   "outputs": [
    {
     "data": {
      "text/plain": [
       "writeDot (generic function with 2 methods)"
      ]
     },
     "execution_count": 12,
     "metadata": {},
     "output_type": "execute_result"
    }
   ],
   "source": [
    "function writeDot(name, busIdx, busInj, renGen, f, t, lineFlow, lineLim, size=(11,14))\n",
    "    # This function generates a graph that richly expresses the RTS96 system state.\n",
    "    # name              a name for the graph and resulting dot file\n",
    "    # busIdx            bus names (could be text) in order of busInj\n",
    "    # busInj            injection at each bus\n",
    "    # renGen            renewable generation at each bus (0 for non-wind buses)\n",
    "    # f                 \"from\" node for each line\n",
    "    # t                 \"to\" node for each line\n",
    "    # lineFlow          flow on each line\n",
    "    # lineLim           limit for each line\n",
    "    # size              size of graphical output\n",
    "\n",
    "    busInj = round(busInj,2)\n",
    "    lineFlow = round(lineFlow,2)\n",
    "    \n",
    "    # Open the dot file, overwriting anything already there:\n",
    "    dotfile = IOBuffer()\n",
    "    \n",
    "    # Begin writing the dot file:\n",
    "    write(dotfile, \"digraph $(name) {\\nrankdir=LR;\\n\")\n",
    "\n",
    "    # Set graph properties:\n",
    "    write(dotfile, \n",
    "    \"graph [fontname=helvetica, tooltip=\\\" \\\", overlap=false, size=\\\"$(size[1]),$(size[2])\\\", ratio=fill, orientation=\\\"portrait\\\",layout=dot];\\n\")\n",
    "\n",
    "    # Set default node properties:\n",
    "    write(dotfile, \"node [fontname=helvetica, shape=square, style=filled, fontsize=20, color=\\\"#bdbdbd\\\"];\\n\")\n",
    "\n",
    "    # Set default edge properties:\n",
    "    write(dotfile, \"edge [fontname=helvetica, style=\\\"setlinewidth(5)\\\"];\\n\")\n",
    "\n",
    "    # Write bus data to dot file:\n",
    "    for i = 1:length(busIdx)\n",
    "        write(dotfile, \n",
    "        \"$(i) [label=$(Int(busIdx[i])), tooltip=\\\"Inj = $(busInj[i])\\\"\") # bus label and tooltip\n",
    "\n",
    "        # Represent renewable nodes with blue circles:\n",
    "        if union(find(renGen),i) == find(renGen)\n",
    "            write(dotfile, \", shape=circle, color=\\\"#5677fc\\\"\")\n",
    "        end\n",
    "\n",
    "        write(dotfile, \"];\\n\")\n",
    "    end\n",
    "\n",
    "    # Write line data to file:\n",
    "\n",
    "    for i = 1:length(f)\n",
    "\n",
    "        normStrain = abs(lineFlow[i])/lineLim[i] # normalized strain on line i\n",
    "\n",
    "        # Use flow direction to determine arrow direction,\n",
    "        # label with flow,\n",
    "        # and color according to strain\n",
    "        if lineFlow[i] > 0\n",
    "            write(dotfile, \n",
    "            \"$(f[i]) -> $(t[i]) [label=$(lineFlow[i])\")\n",
    "        else\n",
    "            write(dotfile, \n",
    "            \"$(t[i]) -> $(f[i]) [label=$(-lineFlow[i])\")\n",
    "        end\n",
    "        write(dotfile,\n",
    "        \", tooltip=\\\" \\\", labeltooltip=\\\"Flow = $(round(Int,(normStrain*100)))%\\\", color=\\\"$(abs(round((1 - normStrain)/3,3))) 1.000 0.700\\\"];\\n\")\n",
    "    end\n",
    "\n",
    "    write(dotfile, \"}\\n\")\n",
    "\n",
    "    dottext = takebuf_string(dotfile)\n",
    "    #print(dottext)\n",
    "\n",
    "    return Graph(dottext)\n",
    "end"
   ]
  },
  {
   "cell_type": "code",
   "execution_count": null,
   "metadata": {
    "collapsed": true
   },
   "outputs": [],
   "source": [
    "@manipulate for line2_limit in 1000:10:1500\n",
    "#line2_limit\n",
    "    f_max[2] = line2_limit\n",
    "    #Define the optimal power flow (OPF) model\n",
    "    opf=Model() \n",
    "    \n",
    "    # Define decision variables\n",
    "    @variables(opf, begin\n",
    "        g[1:2] >= 0\n",
    "        w[1:2] >= 0\n",
    "        f[1:2]\n",
    "        theta[1:3]\n",
    "    end)\n",
    "\n",
    "    # Define the objective function\n",
    "    @objective(opf,Min,sum(c_g[i] * g[i] for i=1:2) + sum(c_w * w[v] for v=1:2))\n",
    "\n",
    "    for i in 1:2\n",
    "        @constraint(opf,  g[i] <= g_max[i] ) #maximum\n",
    "        @constraint(opf,  g[i] >= g_min[i] ) #minimum\n",
    "    end\n",
    "\n",
    "    # Define the constraint on the wind power injections\n",
    "    for v in 1:2\n",
    "        @constraint(opf,  w[v] <= w_f_vec[v]); \n",
    "    end\n",
    "\n",
    "    # Define the constraint on the power flows\n",
    "    for l in 1:2\n",
    "        @constraint(opf, f[l] <= f_max[l])   # direct flows\n",
    "        @constraint(opf, f[l] >=  -f_max[l]) # reverse flows\n",
    "    end\n",
    "\n",
    "    # Define the power balance constraint\n",
    "            # at each node, the power generated and flows in = what flows out\n",
    "    for b in 1:3\n",
    "        @constraint(opf, sum(g_map[i,b]* g[i] for i=1:2) + sum(w_map[v,b] * w[v] for v=1:2) + sum(f_map[l,b] * f[l] for l=1:2)>= d_vec[b]); \n",
    "    end\n",
    "\n",
    "    # Calculate f[l]\n",
    "    # The flow in any line is proportional to potential...\n",
    "    for l in 1:2\n",
    "        @constraint(opf, f[l] == 1/x[l] * sum(f_map[l,b] * theta[b] for b=1:3))   # power flow in every line\n",
    "    end\n",
    "\n",
    "    # Slack bus \n",
    "    @constraint(opf, theta[1] == 0)  # direct flows\n",
    "\n",
    "    # Solve statement\n",
    "    solve(opf)\n",
    "    writeDot(\"UC\",[1,2,3],[0.0;getvalue(g)],[getvalue(w);0.0],[2,3],[1,2],getvalue(f),f_max,(3,3))\n",
    "end"
   ]
  }
 ],
 "metadata": {
  "anaconda-cloud": {},
  "kernelspec": {
   "display_name": "Julia 0.5.0",
   "language": "julia",
   "name": "julia-0.5"
  },
  "language_info": {
   "file_extension": ".jl",
   "mimetype": "application/julia",
   "name": "julia",
   "version": "0.5.0"
  },
  "widgets": {
   "state": {
    "0f734e6a-444b-4cf7-b29d-6958dcb2a998": {
     "views": [
      {
       "cell_index": 3
      }
     ]
    },
    "80ce4f7b-259e-4333-bad3-dcf05c2f29b2": {
     "views": [
      {
       "cell_index": 8
      }
     ]
    },
    "94b66918-bc93-4e0f-bb77-0c52a6943936": {
     "views": [
      {
       "cell_index": 4
      }
     ]
    },
    "c6f88e65-cf79-4598-a389-750d9b3bddfb": {
     "views": [
      {
       "cell_index": 5
      }
     ]
    }
   },
   "version": "1.2.0"
  }
 },
 "nbformat": 4,
 "nbformat_minor": 1
}
